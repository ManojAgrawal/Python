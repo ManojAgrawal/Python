{
 "cells": [
  {
   "cell_type": "markdown",
   "id": "dc487f5c",
   "metadata": {},
   "source": [
    "## A machine learning model exercise on HR Data available on Kaggle by Manoj Agrawal\n",
    "\n",
    "https://www.kaggle.com/arashnic/hr-analytics-job-change-of-data-scientists\n",
    "\n",
    "\"A company which is active in Big Data and Data Science wants to hire data scientists among people who successfully pass some courses that are conducted by the same company. Company wants to know which of these candidates really want to work for the company after completing their training or looking for a new employment because it helps to reduce the cost and time as well as the quality of training or planning the courses and categorization of candidates. Information related to demographics, education, experience are in hands from candidates signup and enrollment.\"\n",
    "\n",
    "Features\n",
    "\n",
    "enrollee_id : Unique ID for candidate\n",
    "\n",
    "city: City code\n",
    "\n",
    "city_ development _index : Developement index of the city (scaled)\n",
    "\n",
    "gender: Gender of candidate\n",
    "\n",
    "relevent_experience: Relevant experience of candidate\n",
    "\n",
    "enrolled_university: Type of University course enrolled if any\n",
    "\n",
    "education_level: Education level of candidate\n",
    "\n",
    "major_discipline :Education major discipline of candidate\n",
    "\n",
    "experience: Candidate total experience in years\n",
    "\n",
    "company_size: No of employees in current employer's company\n",
    "\n",
    "company_type : Type of current employer\n",
    "\n",
    "lastnewjob: Difference in years between previous job and current job\n",
    "\n",
    "training_hours: training hours completed\n",
    "\n",
    "target: 0 – Not looking for job change, 1 – Looking for a job change"
   ]
  },
  {
   "cell_type": "code",
   "execution_count": 1,
   "id": "99bfe389",
   "metadata": {},
   "outputs": [],
   "source": [
    "import numpy as np\n",
    "import pandas as pd\n",
    "import matplotlib.pyplot as plt\n",
    "\n",
    "import os\n",
    "\n",
    "from sklearn.base import BaseEstimator, TransformerMixin\n",
    "from sklearn.pipeline import Pipeline, FeatureUnion\n",
    "from sklearn.preprocessing import StandardScaler, OneHotEncoder\n",
    "from sklearn.impute import SimpleImputer\n",
    "\n",
    "from sklearn.model_selection import train_test_split\n",
    "from sklearn.model_selection import cross_val_score\n",
    "from sklearn.linear_model import LogisticRegressionCV\n",
    "from sklearn.linear_model import LogisticRegression\n",
    "from sklearn.svm import SVC\n",
    "from sklearn.ensemble import RandomForestClassifier\n",
    "from sklearn.metrics import roc_auc_score,confusion_matrix\n",
    "\n",
    "from sklearn.model_selection import learning_curve, ShuffleSplit, cross_val_score, GridSearchCV\n",
    "\n",
    "from xgboost import XGBClassifier, plot_importance"
   ]
  },
  {
   "cell_type": "markdown",
   "id": "3eac9c69",
   "metadata": {},
   "source": [
    "## Read dataset into the notebook and explore "
   ]
  },
  {
   "cell_type": "code",
   "execution_count": 2,
   "id": "c747918a",
   "metadata": {},
   "outputs": [
    {
     "data": {
      "text/html": [
       "<div>\n",
       "<style scoped>\n",
       "    .dataframe tbody tr th:only-of-type {\n",
       "        vertical-align: middle;\n",
       "    }\n",
       "\n",
       "    .dataframe tbody tr th {\n",
       "        vertical-align: top;\n",
       "    }\n",
       "\n",
       "    .dataframe thead th {\n",
       "        text-align: right;\n",
       "    }\n",
       "</style>\n",
       "<table border=\"1\" class=\"dataframe\">\n",
       "  <thead>\n",
       "    <tr style=\"text-align: right;\">\n",
       "      <th></th>\n",
       "      <th>enrollee_id</th>\n",
       "      <th>city</th>\n",
       "      <th>city_development_index</th>\n",
       "      <th>gender</th>\n",
       "      <th>relevent_experience</th>\n",
       "      <th>enrolled_university</th>\n",
       "      <th>education_level</th>\n",
       "      <th>major_discipline</th>\n",
       "      <th>experience</th>\n",
       "      <th>company_size</th>\n",
       "      <th>company_type</th>\n",
       "      <th>last_new_job</th>\n",
       "      <th>training_hours</th>\n",
       "      <th>target</th>\n",
       "    </tr>\n",
       "  </thead>\n",
       "  <tbody>\n",
       "    <tr>\n",
       "      <th>0</th>\n",
       "      <td>8949</td>\n",
       "      <td>city_103</td>\n",
       "      <td>0.920</td>\n",
       "      <td>Male</td>\n",
       "      <td>Has relevent experience</td>\n",
       "      <td>no_enrollment</td>\n",
       "      <td>Graduate</td>\n",
       "      <td>STEM</td>\n",
       "      <td>&gt;20</td>\n",
       "      <td>NaN</td>\n",
       "      <td>NaN</td>\n",
       "      <td>1</td>\n",
       "      <td>36</td>\n",
       "      <td>1.0</td>\n",
       "    </tr>\n",
       "    <tr>\n",
       "      <th>1</th>\n",
       "      <td>29725</td>\n",
       "      <td>city_40</td>\n",
       "      <td>0.776</td>\n",
       "      <td>Male</td>\n",
       "      <td>No relevent experience</td>\n",
       "      <td>no_enrollment</td>\n",
       "      <td>Graduate</td>\n",
       "      <td>STEM</td>\n",
       "      <td>15</td>\n",
       "      <td>50-99</td>\n",
       "      <td>Pvt Ltd</td>\n",
       "      <td>&gt;4</td>\n",
       "      <td>47</td>\n",
       "      <td>0.0</td>\n",
       "    </tr>\n",
       "    <tr>\n",
       "      <th>2</th>\n",
       "      <td>11561</td>\n",
       "      <td>city_21</td>\n",
       "      <td>0.624</td>\n",
       "      <td>NaN</td>\n",
       "      <td>No relevent experience</td>\n",
       "      <td>Full time course</td>\n",
       "      <td>Graduate</td>\n",
       "      <td>STEM</td>\n",
       "      <td>5</td>\n",
       "      <td>NaN</td>\n",
       "      <td>NaN</td>\n",
       "      <td>never</td>\n",
       "      <td>83</td>\n",
       "      <td>0.0</td>\n",
       "    </tr>\n",
       "    <tr>\n",
       "      <th>3</th>\n",
       "      <td>33241</td>\n",
       "      <td>city_115</td>\n",
       "      <td>0.789</td>\n",
       "      <td>NaN</td>\n",
       "      <td>No relevent experience</td>\n",
       "      <td>NaN</td>\n",
       "      <td>Graduate</td>\n",
       "      <td>Business Degree</td>\n",
       "      <td>&lt;1</td>\n",
       "      <td>NaN</td>\n",
       "      <td>Pvt Ltd</td>\n",
       "      <td>never</td>\n",
       "      <td>52</td>\n",
       "      <td>1.0</td>\n",
       "    </tr>\n",
       "    <tr>\n",
       "      <th>4</th>\n",
       "      <td>666</td>\n",
       "      <td>city_162</td>\n",
       "      <td>0.767</td>\n",
       "      <td>Male</td>\n",
       "      <td>Has relevent experience</td>\n",
       "      <td>no_enrollment</td>\n",
       "      <td>Masters</td>\n",
       "      <td>STEM</td>\n",
       "      <td>&gt;20</td>\n",
       "      <td>50-99</td>\n",
       "      <td>Funded Startup</td>\n",
       "      <td>4</td>\n",
       "      <td>8</td>\n",
       "      <td>0.0</td>\n",
       "    </tr>\n",
       "  </tbody>\n",
       "</table>\n",
       "</div>"
      ],
      "text/plain": [
       "   enrollee_id      city  city_development_index gender  \\\n",
       "0         8949  city_103                   0.920   Male   \n",
       "1        29725   city_40                   0.776   Male   \n",
       "2        11561   city_21                   0.624    NaN   \n",
       "3        33241  city_115                   0.789    NaN   \n",
       "4          666  city_162                   0.767   Male   \n",
       "\n",
       "       relevent_experience enrolled_university education_level  \\\n",
       "0  Has relevent experience       no_enrollment        Graduate   \n",
       "1   No relevent experience       no_enrollment        Graduate   \n",
       "2   No relevent experience    Full time course        Graduate   \n",
       "3   No relevent experience                 NaN        Graduate   \n",
       "4  Has relevent experience       no_enrollment         Masters   \n",
       "\n",
       "  major_discipline experience company_size    company_type last_new_job  \\\n",
       "0             STEM        >20          NaN             NaN            1   \n",
       "1             STEM         15        50-99         Pvt Ltd           >4   \n",
       "2             STEM          5          NaN             NaN        never   \n",
       "3  Business Degree         <1          NaN         Pvt Ltd        never   \n",
       "4             STEM        >20        50-99  Funded Startup            4   \n",
       "\n",
       "   training_hours  target  \n",
       "0              36     1.0  \n",
       "1              47     0.0  \n",
       "2              83     0.0  \n",
       "3              52     1.0  \n",
       "4               8     0.0  "
      ]
     },
     "execution_count": 2,
     "metadata": {},
     "output_type": "execute_result"
    }
   ],
   "source": [
    "df = pd.read_csv(\"aug_train.csv\")\n",
    "df.head()"
   ]
  },
  {
   "cell_type": "code",
   "execution_count": 3,
   "id": "062e9677",
   "metadata": {},
   "outputs": [
    {
     "name": "stdout",
     "output_type": "stream",
     "text": [
      "<class 'pandas.core.frame.DataFrame'>\n",
      "RangeIndex: 19158 entries, 0 to 19157\n",
      "Data columns (total 14 columns):\n",
      " #   Column                  Non-Null Count  Dtype  \n",
      "---  ------                  --------------  -----  \n",
      " 0   enrollee_id             19158 non-null  int64  \n",
      " 1   city                    19158 non-null  object \n",
      " 2   city_development_index  19158 non-null  float64\n",
      " 3   gender                  14650 non-null  object \n",
      " 4   relevent_experience     19158 non-null  object \n",
      " 5   enrolled_university     18772 non-null  object \n",
      " 6   education_level         18698 non-null  object \n",
      " 7   major_discipline        16345 non-null  object \n",
      " 8   experience              19093 non-null  object \n",
      " 9   company_size            13220 non-null  object \n",
      " 10  company_type            13018 non-null  object \n",
      " 11  last_new_job            18735 non-null  object \n",
      " 12  training_hours          19158 non-null  int64  \n",
      " 13  target                  19158 non-null  float64\n",
      "dtypes: float64(2), int64(2), object(10)\n",
      "memory usage: 2.0+ MB\n"
     ]
    }
   ],
   "source": [
    "df.info()"
   ]
  },
  {
   "cell_type": "markdown",
   "id": "8b359a1f",
   "metadata": {},
   "source": [
    "### Enrollee id is not needed for modeling so we can drop it from dataset"
   ]
  },
  {
   "cell_type": "code",
   "execution_count": 4,
   "id": "6baf7142",
   "metadata": {},
   "outputs": [],
   "source": [
    "df.drop(['enrollee_id'], axis = 1, inplace=True)"
   ]
  },
  {
   "cell_type": "markdown",
   "id": "8c4db19e",
   "metadata": {},
   "source": [
    "### Explore the numerical data"
   ]
  },
  {
   "cell_type": "code",
   "execution_count": 5,
   "id": "79baed8b",
   "metadata": {},
   "outputs": [
    {
     "data": {
      "text/html": [
       "<div>\n",
       "<style scoped>\n",
       "    .dataframe tbody tr th:only-of-type {\n",
       "        vertical-align: middle;\n",
       "    }\n",
       "\n",
       "    .dataframe tbody tr th {\n",
       "        vertical-align: top;\n",
       "    }\n",
       "\n",
       "    .dataframe thead th {\n",
       "        text-align: right;\n",
       "    }\n",
       "</style>\n",
       "<table border=\"1\" class=\"dataframe\">\n",
       "  <thead>\n",
       "    <tr style=\"text-align: right;\">\n",
       "      <th></th>\n",
       "      <th>city_development_index</th>\n",
       "      <th>training_hours</th>\n",
       "      <th>target</th>\n",
       "    </tr>\n",
       "  </thead>\n",
       "  <tbody>\n",
       "    <tr>\n",
       "      <th>count</th>\n",
       "      <td>19158.000000</td>\n",
       "      <td>19158.000000</td>\n",
       "      <td>19158.000000</td>\n",
       "    </tr>\n",
       "    <tr>\n",
       "      <th>mean</th>\n",
       "      <td>0.828848</td>\n",
       "      <td>65.366896</td>\n",
       "      <td>0.249348</td>\n",
       "    </tr>\n",
       "    <tr>\n",
       "      <th>std</th>\n",
       "      <td>0.123362</td>\n",
       "      <td>60.058462</td>\n",
       "      <td>0.432647</td>\n",
       "    </tr>\n",
       "    <tr>\n",
       "      <th>min</th>\n",
       "      <td>0.448000</td>\n",
       "      <td>1.000000</td>\n",
       "      <td>0.000000</td>\n",
       "    </tr>\n",
       "    <tr>\n",
       "      <th>25%</th>\n",
       "      <td>0.740000</td>\n",
       "      <td>23.000000</td>\n",
       "      <td>0.000000</td>\n",
       "    </tr>\n",
       "    <tr>\n",
       "      <th>50%</th>\n",
       "      <td>0.903000</td>\n",
       "      <td>47.000000</td>\n",
       "      <td>0.000000</td>\n",
       "    </tr>\n",
       "    <tr>\n",
       "      <th>75%</th>\n",
       "      <td>0.920000</td>\n",
       "      <td>88.000000</td>\n",
       "      <td>0.000000</td>\n",
       "    </tr>\n",
       "    <tr>\n",
       "      <th>max</th>\n",
       "      <td>0.949000</td>\n",
       "      <td>336.000000</td>\n",
       "      <td>1.000000</td>\n",
       "    </tr>\n",
       "  </tbody>\n",
       "</table>\n",
       "</div>"
      ],
      "text/plain": [
       "       city_development_index  training_hours        target\n",
       "count            19158.000000    19158.000000  19158.000000\n",
       "mean                 0.828848       65.366896      0.249348\n",
       "std                  0.123362       60.058462      0.432647\n",
       "min                  0.448000        1.000000      0.000000\n",
       "25%                  0.740000       23.000000      0.000000\n",
       "50%                  0.903000       47.000000      0.000000\n",
       "75%                  0.920000       88.000000      0.000000\n",
       "max                  0.949000      336.000000      1.000000"
      ]
     },
     "execution_count": 5,
     "metadata": {},
     "output_type": "execute_result"
    }
   ],
   "source": [
    "df.describe()"
   ]
  },
  {
   "cell_type": "code",
   "execution_count": 6,
   "id": "e53c1437",
   "metadata": {},
   "outputs": [
    {
     "data": {
      "text/html": [
       "<div>\n",
       "<style scoped>\n",
       "    .dataframe tbody tr th:only-of-type {\n",
       "        vertical-align: middle;\n",
       "    }\n",
       "\n",
       "    .dataframe tbody tr th {\n",
       "        vertical-align: top;\n",
       "    }\n",
       "\n",
       "    .dataframe thead th {\n",
       "        text-align: right;\n",
       "    }\n",
       "</style>\n",
       "<table border=\"1\" class=\"dataframe\">\n",
       "  <thead>\n",
       "    <tr style=\"text-align: right;\">\n",
       "      <th></th>\n",
       "      <th>city_development_index</th>\n",
       "      <th>training_hours</th>\n",
       "      <th>target</th>\n",
       "    </tr>\n",
       "  </thead>\n",
       "  <tbody>\n",
       "    <tr>\n",
       "      <th>city_development_index</th>\n",
       "      <td>1.000000</td>\n",
       "      <td>0.001920</td>\n",
       "      <td>-0.341665</td>\n",
       "    </tr>\n",
       "    <tr>\n",
       "      <th>training_hours</th>\n",
       "      <td>0.001920</td>\n",
       "      <td>1.000000</td>\n",
       "      <td>-0.021577</td>\n",
       "    </tr>\n",
       "    <tr>\n",
       "      <th>target</th>\n",
       "      <td>-0.341665</td>\n",
       "      <td>-0.021577</td>\n",
       "      <td>1.000000</td>\n",
       "    </tr>\n",
       "  </tbody>\n",
       "</table>\n",
       "</div>"
      ],
      "text/plain": [
       "                        city_development_index  training_hours    target\n",
       "city_development_index                1.000000        0.001920 -0.341665\n",
       "training_hours                        0.001920        1.000000 -0.021577\n",
       "target                               -0.341665       -0.021577  1.000000"
      ]
     },
     "execution_count": 6,
     "metadata": {},
     "output_type": "execute_result"
    }
   ],
   "source": [
    "df.corr()"
   ]
  },
  {
   "cell_type": "markdown",
   "id": "bf70b280",
   "metadata": {},
   "source": [
    "### City development index has some negative correlationship with target\n",
    "\n",
    "### Let's check the distribution"
   ]
  },
  {
   "cell_type": "code",
   "execution_count": 7,
   "id": "2bcc8b43",
   "metadata": {},
   "outputs": [
    {
     "data": {
      "text/plain": [
       "<function matplotlib.pyplot.show(close=None, block=None)>"
      ]
     },
     "execution_count": 7,
     "metadata": {},
     "output_type": "execute_result"
    },
    {
     "data": {
      "image/png": "[encoded data removed]",
      "text/plain": [
       "<Figure size 1440x1080 with 4 Axes>"
      ]
     },
     "metadata": {
      "needs_background": "light"
     },
     "output_type": "display_data"
    }
   ],
   "source": [
    "df.hist(bins=50,figsize=(20,15))\n",
    "plt.show"
   ]
  },
  {
   "cell_type": "markdown",
   "id": "e891f726",
   "metadata": {},
   "source": [
    "### Lets use log transformation on 'training hours' and check the histograms"
   ]
  },
  {
   "cell_type": "code",
   "execution_count": 8,
   "id": "46f66184",
   "metadata": {},
   "outputs": [
    {
     "data": {
      "text/plain": [
       "<function matplotlib.pyplot.show(close=None, block=None)>"
      ]
     },
     "execution_count": 8,
     "metadata": {},
     "output_type": "execute_result"
    },
    {
     "data": {
      "image/png": "[encoded data removed]",
      "text/plain": [
       "<Figure size 1440x1080 with 4 Axes>"
      ]
     },
     "metadata": {
      "needs_background": "light"
     },
     "output_type": "display_data"
    }
   ],
   "source": [
    "df['training_hrs_log'] = np.log1p(df['training_hours'])\n",
    "df.hist(bins=50,figsize=(20,15))\n",
    "plt.show"
   ]
  },
  {
   "cell_type": "markdown",
   "id": "382bfeac",
   "metadata": {},
   "source": [
    "### This is better, we can remove the training hours column"
   ]
  },
  {
   "cell_type": "code",
   "execution_count": 9,
   "id": "43fc08bf",
   "metadata": {},
   "outputs": [],
   "source": [
    "df.drop('training_hours',axis = 1, inplace= True)"
   ]
  },
  {
   "cell_type": "markdown",
   "id": "f800d363",
   "metadata": {},
   "source": [
    "### Let's explore some categorical features to see if there are any recognizable patterns"
   ]
  },
  {
   "cell_type": "code",
   "execution_count": 10,
   "id": "3677f678",
   "metadata": {},
   "outputs": [
    {
     "data": {
      "text/html": [
       "<div>\n",
       "<style scoped>\n",
       "    .dataframe tbody tr th:only-of-type {\n",
       "        vertical-align: middle;\n",
       "    }\n",
       "\n",
       "    .dataframe tbody tr th {\n",
       "        vertical-align: top;\n",
       "    }\n",
       "\n",
       "    .dataframe thead th {\n",
       "        text-align: right;\n",
       "    }\n",
       "</style>\n",
       "<table border=\"1\" class=\"dataframe\">\n",
       "  <thead>\n",
       "    <tr style=\"text-align: right;\">\n",
       "      <th></th>\n",
       "      <th>target</th>\n",
       "    </tr>\n",
       "    <tr>\n",
       "      <th>gender</th>\n",
       "      <th></th>\n",
       "    </tr>\n",
       "  </thead>\n",
       "  <tbody>\n",
       "    <tr>\n",
       "      <th>Female</th>\n",
       "      <td>0.263328</td>\n",
       "    </tr>\n",
       "    <tr>\n",
       "      <th>Other</th>\n",
       "      <td>0.261780</td>\n",
       "    </tr>\n",
       "    <tr>\n",
       "      <th>Male</th>\n",
       "      <td>0.227819</td>\n",
       "    </tr>\n",
       "  </tbody>\n",
       "</table>\n",
       "</div>"
      ],
      "text/plain": [
       "          target\n",
       "gender          \n",
       "Female  0.263328\n",
       "Other   0.261780\n",
       "Male    0.227819"
      ]
     },
     "execution_count": 10,
     "metadata": {},
     "output_type": "execute_result"
    }
   ],
   "source": [
    "df[['target','gender']].groupby('gender').mean().sort_values(by='target', ascending = False)"
   ]
  },
  {
   "cell_type": "code",
   "execution_count": 11,
   "id": "3461dab7",
   "metadata": {},
   "outputs": [
    {
     "data": {
      "text/html": [
       "<div>\n",
       "<style scoped>\n",
       "    .dataframe tbody tr th:only-of-type {\n",
       "        vertical-align: middle;\n",
       "    }\n",
       "\n",
       "    .dataframe tbody tr th {\n",
       "        vertical-align: top;\n",
       "    }\n",
       "\n",
       "    .dataframe thead th {\n",
       "        text-align: right;\n",
       "    }\n",
       "</style>\n",
       "<table border=\"1\" class=\"dataframe\">\n",
       "  <thead>\n",
       "    <tr style=\"text-align: right;\">\n",
       "      <th></th>\n",
       "      <th>target</th>\n",
       "    </tr>\n",
       "    <tr>\n",
       "      <th>company_size</th>\n",
       "      <th></th>\n",
       "    </tr>\n",
       "  </thead>\n",
       "  <tbody>\n",
       "    <tr>\n",
       "      <th>10/49</th>\n",
       "      <td>0.233855</td>\n",
       "    </tr>\n",
       "    <tr>\n",
       "      <th>10000+</th>\n",
       "      <td>0.190688</td>\n",
       "    </tr>\n",
       "    <tr>\n",
       "      <th>5000-9999</th>\n",
       "      <td>0.181172</td>\n",
       "    </tr>\n",
       "    <tr>\n",
       "      <th>50-99</th>\n",
       "      <td>0.176776</td>\n",
       "    </tr>\n",
       "    <tr>\n",
       "      <th>500-999</th>\n",
       "      <td>0.173318</td>\n",
       "    </tr>\n",
       "    <tr>\n",
       "      <th>&lt;10</th>\n",
       "      <td>0.171254</td>\n",
       "    </tr>\n",
       "    <tr>\n",
       "      <th>100-500</th>\n",
       "      <td>0.161416</td>\n",
       "    </tr>\n",
       "    <tr>\n",
       "      <th>1000-4999</th>\n",
       "      <td>0.150602</td>\n",
       "    </tr>\n",
       "  </tbody>\n",
       "</table>\n",
       "</div>"
      ],
      "text/plain": [
       "                target\n",
       "company_size          \n",
       "10/49         0.233855\n",
       "10000+        0.190688\n",
       "5000-9999     0.181172\n",
       "50-99         0.176776\n",
       "500-999       0.173318\n",
       "<10           0.171254\n",
       "100-500       0.161416\n",
       "1000-4999     0.150602"
      ]
     },
     "execution_count": 11,
     "metadata": {},
     "output_type": "execute_result"
    }
   ],
   "source": [
    "df[['target','company_size']].groupby('company_size').mean().sort_values(by='target', ascending = False)"
   ]
  },
  {
   "cell_type": "code",
   "execution_count": 12,
   "id": "9b12c8e1",
   "metadata": {},
   "outputs": [
    {
     "data": {
      "text/html": [
       "<div>\n",
       "<style scoped>\n",
       "    .dataframe tbody tr th:only-of-type {\n",
       "        vertical-align: middle;\n",
       "    }\n",
       "\n",
       "    .dataframe tbody tr th {\n",
       "        vertical-align: top;\n",
       "    }\n",
       "\n",
       "    .dataframe thead th {\n",
       "        text-align: right;\n",
       "    }\n",
       "</style>\n",
       "<table border=\"1\" class=\"dataframe\">\n",
       "  <thead>\n",
       "    <tr style=\"text-align: right;\">\n",
       "      <th></th>\n",
       "      <th>target</th>\n",
       "    </tr>\n",
       "    <tr>\n",
       "      <th>company_type</th>\n",
       "      <th></th>\n",
       "    </tr>\n",
       "  </thead>\n",
       "  <tbody>\n",
       "    <tr>\n",
       "      <th>Other</th>\n",
       "      <td>0.239669</td>\n",
       "    </tr>\n",
       "    <tr>\n",
       "      <th>Early Stage Startup</th>\n",
       "      <td>0.235489</td>\n",
       "    </tr>\n",
       "    <tr>\n",
       "      <th>Public Sector</th>\n",
       "      <td>0.219895</td>\n",
       "    </tr>\n",
       "    <tr>\n",
       "      <th>NGO</th>\n",
       "      <td>0.186180</td>\n",
       "    </tr>\n",
       "    <tr>\n",
       "      <th>Pvt Ltd</th>\n",
       "      <td>0.180809</td>\n",
       "    </tr>\n",
       "    <tr>\n",
       "      <th>Funded Startup</th>\n",
       "      <td>0.139860</td>\n",
       "    </tr>\n",
       "  </tbody>\n",
       "</table>\n",
       "</div>"
      ],
      "text/plain": [
       "                       target\n",
       "company_type                 \n",
       "Other                0.239669\n",
       "Early Stage Startup  0.235489\n",
       "Public Sector        0.219895\n",
       "NGO                  0.186180\n",
       "Pvt Ltd              0.180809\n",
       "Funded Startup       0.139860"
      ]
     },
     "execution_count": 12,
     "metadata": {},
     "output_type": "execute_result"
    }
   ],
   "source": [
    "df[['target','company_type']].groupby('company_type').mean().sort_values(by='target', ascending = False)"
   ]
  },
  {
   "cell_type": "code",
   "execution_count": 13,
   "id": "8a4cadfa",
   "metadata": {},
   "outputs": [
    {
     "data": {
      "text/html": [
       "<div>\n",
       "<style scoped>\n",
       "    .dataframe tbody tr th:only-of-type {\n",
       "        vertical-align: middle;\n",
       "    }\n",
       "\n",
       "    .dataframe tbody tr th {\n",
       "        vertical-align: top;\n",
       "    }\n",
       "\n",
       "    .dataframe thead th {\n",
       "        text-align: right;\n",
       "    }\n",
       "</style>\n",
       "<table border=\"1\" class=\"dataframe\">\n",
       "  <thead>\n",
       "    <tr style=\"text-align: right;\">\n",
       "      <th></th>\n",
       "      <th>target</th>\n",
       "    </tr>\n",
       "    <tr>\n",
       "      <th>enrolled_university</th>\n",
       "      <th></th>\n",
       "    </tr>\n",
       "  </thead>\n",
       "  <tbody>\n",
       "    <tr>\n",
       "      <th>Full time course</th>\n",
       "      <td>0.380889</td>\n",
       "    </tr>\n",
       "    <tr>\n",
       "      <th>Part time course</th>\n",
       "      <td>0.252087</td>\n",
       "    </tr>\n",
       "    <tr>\n",
       "      <th>no_enrollment</th>\n",
       "      <td>0.211406</td>\n",
       "    </tr>\n",
       "  </tbody>\n",
       "</table>\n",
       "</div>"
      ],
      "text/plain": [
       "                       target\n",
       "enrolled_university          \n",
       "Full time course     0.380889\n",
       "Part time course     0.252087\n",
       "no_enrollment        0.211406"
      ]
     },
     "execution_count": 13,
     "metadata": {},
     "output_type": "execute_result"
    }
   ],
   "source": [
    "df[['target','enrolled_university']].groupby('enrolled_university').mean().sort_values(by='target', ascending = False)"
   ]
  },
  {
   "cell_type": "code",
   "execution_count": 14,
   "id": "2dc23a9f",
   "metadata": {},
   "outputs": [
    {
     "data": {
      "text/html": [
       "<div>\n",
       "<style scoped>\n",
       "    .dataframe tbody tr th:only-of-type {\n",
       "        vertical-align: middle;\n",
       "    }\n",
       "\n",
       "    .dataframe tbody tr th {\n",
       "        vertical-align: top;\n",
       "    }\n",
       "\n",
       "    .dataframe thead th {\n",
       "        text-align: right;\n",
       "    }\n",
       "</style>\n",
       "<table border=\"1\" class=\"dataframe\">\n",
       "  <thead>\n",
       "    <tr style=\"text-align: right;\">\n",
       "      <th></th>\n",
       "      <th>target</th>\n",
       "    </tr>\n",
       "    <tr>\n",
       "      <th>education_level</th>\n",
       "      <th></th>\n",
       "    </tr>\n",
       "  </thead>\n",
       "  <tbody>\n",
       "    <tr>\n",
       "      <th>Graduate</th>\n",
       "      <td>0.279790</td>\n",
       "    </tr>\n",
       "    <tr>\n",
       "      <th>Masters</th>\n",
       "      <td>0.214400</td>\n",
       "    </tr>\n",
       "    <tr>\n",
       "      <th>High School</th>\n",
       "      <td>0.195340</td>\n",
       "    </tr>\n",
       "    <tr>\n",
       "      <th>Phd</th>\n",
       "      <td>0.140097</td>\n",
       "    </tr>\n",
       "    <tr>\n",
       "      <th>Primary School</th>\n",
       "      <td>0.133117</td>\n",
       "    </tr>\n",
       "  </tbody>\n",
       "</table>\n",
       "</div>"
      ],
      "text/plain": [
       "                   target\n",
       "education_level          \n",
       "Graduate         0.279790\n",
       "Masters          0.214400\n",
       "High School      0.195340\n",
       "Phd              0.140097\n",
       "Primary School   0.133117"
      ]
     },
     "execution_count": 14,
     "metadata": {},
     "output_type": "execute_result"
    }
   ],
   "source": [
    "df[['target','education_level']].groupby('education_level').mean().sort_values(by='target', ascending = False) "
   ]
  },
  {
   "cell_type": "code",
   "execution_count": 15,
   "id": "855d61f4",
   "metadata": {},
   "outputs": [
    {
     "data": {
      "text/html": [
       "<div>\n",
       "<style scoped>\n",
       "    .dataframe tbody tr th:only-of-type {\n",
       "        vertical-align: middle;\n",
       "    }\n",
       "\n",
       "    .dataframe tbody tr th {\n",
       "        vertical-align: top;\n",
       "    }\n",
       "\n",
       "    .dataframe thead th {\n",
       "        text-align: right;\n",
       "    }\n",
       "</style>\n",
       "<table border=\"1\" class=\"dataframe\">\n",
       "  <thead>\n",
       "    <tr style=\"text-align: right;\">\n",
       "      <th></th>\n",
       "      <th>target</th>\n",
       "    </tr>\n",
       "    <tr>\n",
       "      <th>relevent_experience</th>\n",
       "      <th></th>\n",
       "    </tr>\n",
       "  </thead>\n",
       "  <tbody>\n",
       "    <tr>\n",
       "      <th>No relevent experience</th>\n",
       "      <td>0.338427</td>\n",
       "    </tr>\n",
       "    <tr>\n",
       "      <th>Has relevent experience</th>\n",
       "      <td>0.214690</td>\n",
       "    </tr>\n",
       "  </tbody>\n",
       "</table>\n",
       "</div>"
      ],
      "text/plain": [
       "                           target\n",
       "relevent_experience              \n",
       "No relevent experience   0.338427\n",
       "Has relevent experience  0.214690"
      ]
     },
     "execution_count": 15,
     "metadata": {},
     "output_type": "execute_result"
    }
   ],
   "source": [
    "df[['target','relevent_experience']].groupby('relevent_experience').mean().sort_values(by='target', ascending = False) "
   ]
  },
  {
   "cell_type": "code",
   "execution_count": 16,
   "id": "8e08a437",
   "metadata": {},
   "outputs": [
    {
     "data": {
      "text/plain": [
       "<AxesSubplot:xlabel='gender'>"
      ]
     },
     "execution_count": 16,
     "metadata": {},
     "output_type": "execute_result"
    },
    {
     "data": {
      "image/png": "[encoded data removed]",
      "text/plain": [
       "<Figure size 432x288 with 1 Axes>"
      ]
     },
     "metadata": {
      "needs_background": "light"
     },
     "output_type": "display_data"
    }
   ],
   "source": [
    "gender_cnts = pd.crosstab(df.gender, df.relevent_experience)\n",
    "gender_pcts = gender_cnts.div(gender_cnts.sum(1).astype(float), axis=0)\n",
    "gender_pcts.plot(kind='bar', stacked=True)"
   ]
  },
  {
   "cell_type": "markdown",
   "id": "64f888f9",
   "metadata": {},
   "source": [
    "### check cardinality of categorical columns"
   ]
  },
  {
   "cell_type": "code",
   "execution_count": 17,
   "id": "8a7707e1",
   "metadata": {},
   "outputs": [
    {
     "data": {
      "text/plain": [
       "[('relevent_experience', 2),\n",
       " ('gender', 3),\n",
       " ('enrolled_university', 3),\n",
       " ('education_level', 5),\n",
       " ('major_discipline', 6),\n",
       " ('company_type', 6),\n",
       " ('last_new_job', 6),\n",
       " ('company_size', 8),\n",
       " ('experience', 22),\n",
       " ('city', 123)]"
      ]
     },
     "execution_count": 17,
     "metadata": {},
     "output_type": "execute_result"
    }
   ],
   "source": [
    "object_cols = df.dtypes[df.dtypes=='object'].index.tolist()\n",
    "\n",
    "# Get number of unique entries in each column with categorical data\n",
    "object_nunique = list(map(lambda col: df[col].nunique(), object_cols))\n",
    "d = dict(zip(object_cols, object_nunique))\n",
    "\n",
    "# Print number of unique entries by column, in ascending order\n",
    "sorted(d.items(), key=lambda x: x[1])"
   ]
  },
  {
   "cell_type": "markdown",
   "id": "b0b6ea54",
   "metadata": {},
   "source": [
    "### City has 123 unique value so has high cardinality. Since we already have city development index we can remove column 'city' from the dataset.\n",
    "\n",
    "### Experience has 22 unique values and has high cardinality. Let's look at that later"
   ]
  },
  {
   "cell_type": "code",
   "execution_count": 18,
   "id": "03d885fc",
   "metadata": {},
   "outputs": [],
   "source": [
    "df.drop('city',axis = 1, inplace= True)"
   ]
  },
  {
   "cell_type": "markdown",
   "id": "6afe7603",
   "metadata": {},
   "source": [
    "### Split the datset into train and test"
   ]
  },
  {
   "cell_type": "code",
   "execution_count": 19,
   "id": "4df137a4",
   "metadata": {},
   "outputs": [
    {
     "name": "stdout",
     "output_type": "stream",
     "text": [
      "0.0    11478\n",
      "1.0     3848\n",
      "Name: target, dtype: int64\n",
      "0.0    2903\n",
      "1.0     929\n",
      "Name: target, dtype: int64\n"
     ]
    }
   ],
   "source": [
    "df.sample(frac=1, random_state=10).reset_index(drop=True)\n",
    "train, test = train_test_split(df, test_size=0.2,random_state=10)\n",
    "print(train['target'].value_counts())\n",
    "print(test['target'].value_counts())"
   ]
  },
  {
   "cell_type": "code",
   "execution_count": 20,
   "id": "9447f2eb",
   "metadata": {},
   "outputs": [
    {
     "data": {
      "text/html": [
       "<div>\n",
       "<style scoped>\n",
       "    .dataframe tbody tr th:only-of-type {\n",
       "        vertical-align: middle;\n",
       "    }\n",
       "\n",
       "    .dataframe tbody tr th {\n",
       "        vertical-align: top;\n",
       "    }\n",
       "\n",
       "    .dataframe thead th {\n",
       "        text-align: right;\n",
       "    }\n",
       "</style>\n",
       "<table border=\"1\" class=\"dataframe\">\n",
       "  <thead>\n",
       "    <tr style=\"text-align: right;\">\n",
       "      <th></th>\n",
       "      <th>city_development_index</th>\n",
       "      <th>gender</th>\n",
       "      <th>relevent_experience</th>\n",
       "      <th>enrolled_university</th>\n",
       "      <th>education_level</th>\n",
       "      <th>major_discipline</th>\n",
       "      <th>experience</th>\n",
       "      <th>company_size</th>\n",
       "      <th>company_type</th>\n",
       "      <th>last_new_job</th>\n",
       "      <th>training_hrs_log</th>\n",
       "    </tr>\n",
       "  </thead>\n",
       "  <tbody>\n",
       "    <tr>\n",
       "      <th>620</th>\n",
       "      <td>0.926</td>\n",
       "      <td>Male</td>\n",
       "      <td>No relevent experience</td>\n",
       "      <td>no_enrollment</td>\n",
       "      <td>High School</td>\n",
       "      <td>NaN</td>\n",
       "      <td>5</td>\n",
       "      <td>50-99</td>\n",
       "      <td>Pvt Ltd</td>\n",
       "      <td>2</td>\n",
       "      <td>5.549076</td>\n",
       "    </tr>\n",
       "    <tr>\n",
       "      <th>4642</th>\n",
       "      <td>0.878</td>\n",
       "      <td>Male</td>\n",
       "      <td>Has relevent experience</td>\n",
       "      <td>no_enrollment</td>\n",
       "      <td>Graduate</td>\n",
       "      <td>STEM</td>\n",
       "      <td>4</td>\n",
       "      <td>10000+</td>\n",
       "      <td>Pvt Ltd</td>\n",
       "      <td>1</td>\n",
       "      <td>3.433987</td>\n",
       "    </tr>\n",
       "    <tr>\n",
       "      <th>16366</th>\n",
       "      <td>0.920</td>\n",
       "      <td>Male</td>\n",
       "      <td>Has relevent experience</td>\n",
       "      <td>no_enrollment</td>\n",
       "      <td>Graduate</td>\n",
       "      <td>Arts</td>\n",
       "      <td>2</td>\n",
       "      <td>1000-4999</td>\n",
       "      <td>Pvt Ltd</td>\n",
       "      <td>2</td>\n",
       "      <td>3.850148</td>\n",
       "    </tr>\n",
       "    <tr>\n",
       "      <th>4294</th>\n",
       "      <td>0.893</td>\n",
       "      <td>Male</td>\n",
       "      <td>Has relevent experience</td>\n",
       "      <td>no_enrollment</td>\n",
       "      <td>Graduate</td>\n",
       "      <td>STEM</td>\n",
       "      <td>5</td>\n",
       "      <td>10/49</td>\n",
       "      <td>Pvt Ltd</td>\n",
       "      <td>2</td>\n",
       "      <td>4.025352</td>\n",
       "    </tr>\n",
       "    <tr>\n",
       "      <th>3180</th>\n",
       "      <td>0.925</td>\n",
       "      <td>Female</td>\n",
       "      <td>Has relevent experience</td>\n",
       "      <td>no_enrollment</td>\n",
       "      <td>Phd</td>\n",
       "      <td>STEM</td>\n",
       "      <td>&gt;20</td>\n",
       "      <td>100-500</td>\n",
       "      <td>Funded Startup</td>\n",
       "      <td>2</td>\n",
       "      <td>3.367296</td>\n",
       "    </tr>\n",
       "  </tbody>\n",
       "</table>\n",
       "</div>"
      ],
      "text/plain": [
       "       city_development_index  gender      relevent_experience  \\\n",
       "620                     0.926    Male   No relevent experience   \n",
       "4642                    0.878    Male  Has relevent experience   \n",
       "16366                   0.920    Male  Has relevent experience   \n",
       "4294                    0.893    Male  Has relevent experience   \n",
       "3180                    0.925  Female  Has relevent experience   \n",
       "\n",
       "      enrolled_university education_level major_discipline experience  \\\n",
       "620         no_enrollment     High School              NaN          5   \n",
       "4642        no_enrollment        Graduate             STEM          4   \n",
       "16366       no_enrollment        Graduate             Arts          2   \n",
       "4294        no_enrollment        Graduate             STEM          5   \n",
       "3180        no_enrollment             Phd             STEM        >20   \n",
       "\n",
       "      company_size    company_type last_new_job  training_hrs_log  \n",
       "620          50-99         Pvt Ltd            2          5.549076  \n",
       "4642        10000+         Pvt Ltd            1          3.433987  \n",
       "16366    1000-4999         Pvt Ltd            2          3.850148  \n",
       "4294         10/49         Pvt Ltd            2          4.025352  \n",
       "3180       100-500  Funded Startup            2          3.367296  "
      ]
     },
     "execution_count": 20,
     "metadata": {},
     "output_type": "execute_result"
    }
   ],
   "source": [
    "train_y = train['target']\n",
    "test_y = test['target']\n",
    "train_X = train.drop('target', axis=1)\n",
    "test_X = test.drop('target', axis=1)\n",
    "train_X.head()"
   ]
  },
  {
   "cell_type": "markdown",
   "id": "e1bc1b7d",
   "metadata": {},
   "source": [
    "### Let's see what going on with 'Experience' column "
   ]
  },
  {
   "cell_type": "code",
   "execution_count": 21,
   "id": "b5b17081",
   "metadata": {},
   "outputs": [
    {
     "data": {
      "text/plain": [
       ">20    2639\n",
       "5      1141\n",
       "4      1132\n",
       "3      1070\n",
       "6       965\n",
       "2       921\n",
       "7       810\n",
       "10      786\n",
       "9       766\n",
       "8       643\n",
       "15      563\n",
       "11      526\n",
       "14      458\n",
       "1       442\n",
       "<1      422\n",
       "16      420\n",
       "12      396\n",
       "13      320\n",
       "17      278\n",
       "19      242\n",
       "18      217\n",
       "20      114\n",
       "Name: experience, dtype: int64"
      ]
     },
     "execution_count": 21,
     "metadata": {},
     "output_type": "execute_result"
    }
   ],
   "source": [
    "train_X['experience'].value_counts()"
   ]
  },
  {
   "cell_type": "markdown",
   "id": "8242011f",
   "metadata": {},
   "source": [
    "### Function to create reduced number of categories for experience column"
   ]
  },
  {
   "cell_type": "code",
   "execution_count": 22,
   "id": "c7d29053",
   "metadata": {},
   "outputs": [],
   "source": [
    "def ExperienceBuckets(X):\n",
    "    X.loc[X['experience'] == '>20', 'experience'] = '22'\n",
    "    X.loc[X['experience'] == '<1', 'experience'] = '0.5'\n",
    "    X['experience'] = pd.to_numeric(X['experience'])\n",
    "    \n",
    "    conditions = [\n",
    "    (X['experience'] <1),\n",
    "    (X['experience'] <= 5),\n",
    "    (X['experience'] > 5) & (X['experience'] <= 10),\n",
    "    (X['experience'] > 10) & (X['experience'] <= 15),\n",
    "    (X['experience'] > 15) & (X['experience'] <= 20),\n",
    "    (X['experience'] >20)]\n",
    "    \n",
    "    # create a list of the values we want to assign for each condition\n",
    "    #values = ['<1', '1-5', '5-10', '10-15', '15-20', '>20']\n",
    "    values = [1, 2, 3, 4, 5, 6]\n",
    "    \n",
    "    # create a new column and use np.select to assign values to it using our lists as arguments\n",
    "    X['experience_ord'] = np.select(conditions, values)\n",
    "    return X\n"
   ]
  },
  {
   "cell_type": "code",
   "execution_count": 23,
   "id": "6079b84a",
   "metadata": {},
   "outputs": [
    {
     "name": "stdout",
     "output_type": "stream",
     "text": [
      "       city_development_index  gender      relevent_experience  \\\n",
      "620                     0.926    Male   No relevent experience   \n",
      "4642                    0.878    Male  Has relevent experience   \n",
      "16366                   0.920    Male  Has relevent experience   \n",
      "4294                    0.893    Male  Has relevent experience   \n",
      "3180                    0.925  Female  Has relevent experience   \n",
      "\n",
      "      enrolled_university education_level major_discipline  experience  \\\n",
      "620         no_enrollment     High School              NaN         5.0   \n",
      "4642        no_enrollment        Graduate             STEM         4.0   \n",
      "16366       no_enrollment        Graduate             Arts         2.0   \n",
      "4294        no_enrollment        Graduate             STEM         5.0   \n",
      "3180        no_enrollment             Phd             STEM        22.0   \n",
      "\n",
      "      company_size    company_type last_new_job  training_hrs_log  \\\n",
      "620          50-99         Pvt Ltd            2          5.549076   \n",
      "4642        10000+         Pvt Ltd            1          3.433987   \n",
      "16366    1000-4999         Pvt Ltd            2          3.850148   \n",
      "4294         10/49         Pvt Ltd            2          4.025352   \n",
      "3180       100-500  Funded Startup            2          3.367296   \n",
      "\n",
      "       experience_ord  \n",
      "620                 2  \n",
      "4642                2  \n",
      "16366               2  \n",
      "4294                2  \n",
      "3180                6  \n",
      "       city_development_index  gender      relevent_experience  \\\n",
      "14300                   0.847    Male   No relevent experience   \n",
      "12154                   0.921    Male  Has relevent experience   \n",
      "14208                   0.624  Female  Has relevent experience   \n",
      "16660                   0.925    Male  Has relevent experience   \n",
      "11854                   0.910    Male  Has relevent experience   \n",
      "\n",
      "      enrolled_university education_level major_discipline  experience  \\\n",
      "14300    Full time course     High School              NaN         4.0   \n",
      "12154    Full time course         Masters             STEM         5.0   \n",
      "14208       no_enrollment        Graduate             STEM         3.0   \n",
      "16660    Full time course        Graduate             STEM         9.0   \n",
      "11854       no_enrollment        Graduate             STEM         9.0   \n",
      "\n",
      "      company_size   company_type last_new_job  training_hrs_log  \\\n",
      "14300       10000+        Pvt Ltd            1          4.744932   \n",
      "12154      100-500        Pvt Ltd            1          2.397895   \n",
      "14208       10000+        Pvt Ltd            1          5.370638   \n",
      "16660      100-500  Public Sector            1          4.718499   \n",
      "11854      500-999        Pvt Ltd            4          4.110874   \n",
      "\n",
      "       experience_ord  \n",
      "14300               2  \n",
      "12154               2  \n",
      "14208               2  \n",
      "16660               3  \n",
      "11854               3  \n"
     ]
    }
   ],
   "source": [
    "train_X = ExperienceBuckets(train_X)\n",
    "test_X = ExperienceBuckets(test_X)\n",
    "print(train_X.head())\n",
    "print(test_X.head())"
   ]
  },
  {
   "cell_type": "code",
   "execution_count": 24,
   "id": "f7e2ed46",
   "metadata": {},
   "outputs": [],
   "source": [
    "train_X.drop('experience', axis = 1, inplace = True)\n",
    "test_X.drop('experience', axis = 1, inplace = True)"
   ]
  },
  {
   "cell_type": "markdown",
   "id": "278fce48",
   "metadata": {},
   "source": [
    "### We can convert education level category to numerical"
   ]
  },
  {
   "cell_type": "code",
   "execution_count": 25,
   "id": "3d4fe786",
   "metadata": {},
   "outputs": [
    {
     "data": {
      "text/plain": [
       "Graduate          9314\n",
       "Masters           3495\n",
       "High School       1592\n",
       "Phd                320\n",
       "Primary School     236\n",
       "Name: education_level, dtype: int64"
      ]
     },
     "execution_count": 25,
     "metadata": {},
     "output_type": "execute_result"
    }
   ],
   "source": [
    "train_X['education_level'].value_counts()"
   ]
  },
  {
   "cell_type": "code",
   "execution_count": 26,
   "id": "14ec38e6",
   "metadata": {},
   "outputs": [],
   "source": [
    "education_mapping = {\"Primary School\": 1, \"High School\": 2, \"Graduate\":3, \"Masters\": 4, \"Phd\":5}"
   ]
  },
  {
   "cell_type": "code",
   "execution_count": 27,
   "id": "04567cb8",
   "metadata": {},
   "outputs": [
    {
     "data": {
      "text/html": [
       "<div>\n",
       "<style scoped>\n",
       "    .dataframe tbody tr th:only-of-type {\n",
       "        vertical-align: middle;\n",
       "    }\n",
       "\n",
       "    .dataframe tbody tr th {\n",
       "        vertical-align: top;\n",
       "    }\n",
       "\n",
       "    .dataframe thead th {\n",
       "        text-align: right;\n",
       "    }\n",
       "</style>\n",
       "<table border=\"1\" class=\"dataframe\">\n",
       "  <thead>\n",
       "    <tr style=\"text-align: right;\">\n",
       "      <th></th>\n",
       "      <th>city_development_index</th>\n",
       "      <th>gender</th>\n",
       "      <th>relevent_experience</th>\n",
       "      <th>enrolled_university</th>\n",
       "      <th>education_level</th>\n",
       "      <th>major_discipline</th>\n",
       "      <th>company_size</th>\n",
       "      <th>company_type</th>\n",
       "      <th>last_new_job</th>\n",
       "      <th>training_hrs_log</th>\n",
       "      <th>experience_ord</th>\n",
       "    </tr>\n",
       "  </thead>\n",
       "  <tbody>\n",
       "    <tr>\n",
       "      <th>620</th>\n",
       "      <td>0.926</td>\n",
       "      <td>Male</td>\n",
       "      <td>No relevent experience</td>\n",
       "      <td>no_enrollment</td>\n",
       "      <td>2.0</td>\n",
       "      <td>NaN</td>\n",
       "      <td>50-99</td>\n",
       "      <td>Pvt Ltd</td>\n",
       "      <td>2</td>\n",
       "      <td>5.549076</td>\n",
       "      <td>2</td>\n",
       "    </tr>\n",
       "    <tr>\n",
       "      <th>4642</th>\n",
       "      <td>0.878</td>\n",
       "      <td>Male</td>\n",
       "      <td>Has relevent experience</td>\n",
       "      <td>no_enrollment</td>\n",
       "      <td>3.0</td>\n",
       "      <td>STEM</td>\n",
       "      <td>10000+</td>\n",
       "      <td>Pvt Ltd</td>\n",
       "      <td>1</td>\n",
       "      <td>3.433987</td>\n",
       "      <td>2</td>\n",
       "    </tr>\n",
       "    <tr>\n",
       "      <th>16366</th>\n",
       "      <td>0.920</td>\n",
       "      <td>Male</td>\n",
       "      <td>Has relevent experience</td>\n",
       "      <td>no_enrollment</td>\n",
       "      <td>3.0</td>\n",
       "      <td>Arts</td>\n",
       "      <td>1000-4999</td>\n",
       "      <td>Pvt Ltd</td>\n",
       "      <td>2</td>\n",
       "      <td>3.850148</td>\n",
       "      <td>2</td>\n",
       "    </tr>\n",
       "    <tr>\n",
       "      <th>4294</th>\n",
       "      <td>0.893</td>\n",
       "      <td>Male</td>\n",
       "      <td>Has relevent experience</td>\n",
       "      <td>no_enrollment</td>\n",
       "      <td>3.0</td>\n",
       "      <td>STEM</td>\n",
       "      <td>10/49</td>\n",
       "      <td>Pvt Ltd</td>\n",
       "      <td>2</td>\n",
       "      <td>4.025352</td>\n",
       "      <td>2</td>\n",
       "    </tr>\n",
       "    <tr>\n",
       "      <th>3180</th>\n",
       "      <td>0.925</td>\n",
       "      <td>Female</td>\n",
       "      <td>Has relevent experience</td>\n",
       "      <td>no_enrollment</td>\n",
       "      <td>5.0</td>\n",
       "      <td>STEM</td>\n",
       "      <td>100-500</td>\n",
       "      <td>Funded Startup</td>\n",
       "      <td>2</td>\n",
       "      <td>3.367296</td>\n",
       "      <td>6</td>\n",
       "    </tr>\n",
       "  </tbody>\n",
       "</table>\n",
       "</div>"
      ],
      "text/plain": [
       "       city_development_index  gender      relevent_experience  \\\n",
       "620                     0.926    Male   No relevent experience   \n",
       "4642                    0.878    Male  Has relevent experience   \n",
       "16366                   0.920    Male  Has relevent experience   \n",
       "4294                    0.893    Male  Has relevent experience   \n",
       "3180                    0.925  Female  Has relevent experience   \n",
       "\n",
       "      enrolled_university  education_level major_discipline company_size  \\\n",
       "620         no_enrollment              2.0              NaN        50-99   \n",
       "4642        no_enrollment              3.0             STEM       10000+   \n",
       "16366       no_enrollment              3.0             Arts    1000-4999   \n",
       "4294        no_enrollment              3.0             STEM        10/49   \n",
       "3180        no_enrollment              5.0             STEM      100-500   \n",
       "\n",
       "         company_type last_new_job  training_hrs_log  experience_ord  \n",
       "620           Pvt Ltd            2          5.549076               2  \n",
       "4642          Pvt Ltd            1          3.433987               2  \n",
       "16366         Pvt Ltd            2          3.850148               2  \n",
       "4294          Pvt Ltd            2          4.025352               2  \n",
       "3180   Funded Startup            2          3.367296               6  "
      ]
     },
     "execution_count": 27,
     "metadata": {},
     "output_type": "execute_result"
    }
   ],
   "source": [
    "train_X['education_level'] = train_X['education_level'].map(education_mapping)\n",
    "test_X['education_level'] = test_X['education_level'].map(education_mapping)\n",
    "train_X.head()"
   ]
  },
  {
   "cell_type": "markdown",
   "id": "87839510",
   "metadata": {},
   "source": [
    "### Get the numeric and category coloumns"
   ]
  },
  {
   "cell_type": "code",
   "execution_count": 28,
   "id": "04e2df3d",
   "metadata": {},
   "outputs": [
    {
     "name": "stdout",
     "output_type": "stream",
     "text": [
      "['city_development_index', 'education_level', 'training_hrs_log', 'experience_ord']\n",
      "['major_discipline', 'last_new_job', 'relevent_experience', 'company_type', 'enrolled_university', 'gender', 'company_size']\n"
     ]
    }
   ],
   "source": [
    "attribs = train_X.columns\n",
    "num_attribs = list(train_X._get_numeric_data().columns)\n",
    "cat_attribs = list(set(attribs) - set(num_attribs))\n",
    "print(num_attribs)\n",
    "print(cat_attribs)"
   ]
  },
  {
   "cell_type": "markdown",
   "id": "25015036",
   "metadata": {},
   "source": [
    "### Create DataFrame selector class\n"
   ]
  },
  {
   "cell_type": "code",
   "execution_count": 29,
   "id": "2fb778a3",
   "metadata": {},
   "outputs": [],
   "source": [
    "class DataFrameSelector(BaseEstimator, TransformerMixin):\n",
    "    def __init__(self, attribute_names):\n",
    "        self.attribute_names = attribute_names\n",
    "    def fit(self, X, y=None):\n",
    "        return self\n",
    "    def transform(self, X):\n",
    "        return X[self.attribute_names].values"
   ]
  },
  {
   "cell_type": "markdown",
   "id": "114cf81c",
   "metadata": {},
   "source": [
    "### Create pipelines for numerical and category columns"
   ]
  },
  {
   "cell_type": "code",
   "execution_count": 30,
   "id": "6253c17e",
   "metadata": {},
   "outputs": [],
   "source": [
    "num_pipeline = Pipeline([('Selector', DataFrameSelector(num_attribs)), ('imputer',SimpleImputer(strategy='median')),\\\n",
    "                        ('std_scaler',StandardScaler())])\n",
    "\n",
    "cat_pipeline = Pipeline([('Selector', DataFrameSelector(cat_attribs)), ('category_imputer',SimpleImputer(strategy='constant',fill_value=\"unknown\")),\\\n",
    "                                                 ('one_hot_encoder',OneHotEncoder(drop=\"if_binary\"))])"
   ]
  },
  {
   "cell_type": "markdown",
   "id": "289fcfe5",
   "metadata": {},
   "source": [
    "### Complete pipeline"
   ]
  },
  {
   "cell_type": "code",
   "execution_count": 31,
   "id": "68b01fed",
   "metadata": {},
   "outputs": [],
   "source": [
    "full_pipeline = FeatureUnion(transformer_list=[(\"num_pipeline\", num_pipeline),(\"cat_pipeline\", cat_pipeline)])"
   ]
  },
  {
   "cell_type": "markdown",
   "id": "edc84022",
   "metadata": {},
   "source": [
    "### prepare the training set by fitting and transforming using the complete pipeline"
   ]
  },
  {
   "cell_type": "code",
   "execution_count": 32,
   "id": "fd70c2d3",
   "metadata": {},
   "outputs": [
    {
     "data": {
      "text/plain": [
       "<15326x43 sparse matrix of type '<class 'numpy.float64'>'\n",
       "\twith 157539 stored elements in Compressed Sparse Row format>"
      ]
     },
     "execution_count": 32,
     "metadata": {},
     "output_type": "execute_result"
    }
   ],
   "source": [
    "train_prepared = full_pipeline.fit_transform(train_X)\n",
    "train_prepared"
   ]
  },
  {
   "cell_type": "markdown",
   "id": "5de9d061",
   "metadata": {},
   "source": [
    "## Training a logistic regression model"
   ]
  },
  {
   "cell_type": "code",
   "execution_count": 33,
   "id": "1dee892e",
   "metadata": {},
   "outputs": [],
   "source": [
    "log_reg = LogisticRegressionCV(cv=10,max_iter=1000, class_weight={0:0.50}).fit(train_prepared, train_y)"
   ]
  },
  {
   "cell_type": "code",
   "execution_count": 34,
   "id": "e79a3d52",
   "metadata": {},
   "outputs": [],
   "source": [
    "predictions = log_reg.predict(train_prepared)"
   ]
  },
  {
   "cell_type": "code",
   "execution_count": 35,
   "id": "f161954b",
   "metadata": {},
   "outputs": [
    {
     "name": "stdout",
     "output_type": "stream",
     "text": [
      "0.7728043847057289\n",
      "0.681958281213378\n"
     ]
    }
   ],
   "source": [
    "print(log_reg.score(train_prepared, train_y))\n",
    "print(roc_auc_score(train_y,predictions))"
   ]
  },
  {
   "cell_type": "code",
   "execution_count": 36,
   "id": "1a7576cd",
   "metadata": {},
   "outputs": [],
   "source": [
    "test_prepared = full_pipeline.transform(test_X)"
   ]
  },
  {
   "cell_type": "code",
   "execution_count": 37,
   "id": "d51564c7",
   "metadata": {},
   "outputs": [],
   "source": [
    "predictions_test = log_reg.predict(test_prepared)"
   ]
  },
  {
   "cell_type": "code",
   "execution_count": 38,
   "id": "644de32e",
   "metadata": {},
   "outputs": [
    {
     "name": "stdout",
     "output_type": "stream",
     "text": [
      "0.774008350730689\n",
      "0.6788345229147532\n"
     ]
    }
   ],
   "source": [
    "print(log_reg.score(test_prepared, test_y))\n",
    "print(roc_auc_score(test_y,predictions_test))"
   ]
  },
  {
   "cell_type": "code",
   "execution_count": 39,
   "id": "932e7c93",
   "metadata": {},
   "outputs": [
    {
     "data": {
      "text/plain": [
       "array([[2507,  470],\n",
       "       [ 396,  459]], dtype=int64)"
      ]
     },
     "execution_count": 39,
     "metadata": {},
     "output_type": "execute_result"
    }
   ],
   "source": [
    "confusion_matrix(predictions_test, test_y)"
   ]
  },
  {
   "cell_type": "markdown",
   "id": "61f662a7",
   "metadata": {},
   "source": [
    "### Model is performing poorly. Lets check the learning curves. This is standard code provided on sklearn website"
   ]
  },
  {
   "cell_type": "code",
   "execution_count": 40,
   "id": "ed8c379b",
   "metadata": {},
   "outputs": [],
   "source": [
    "def plot_learning_curve(estimator, title, X, y, ylim=None, cv=None,\n",
    "                        n_jobs=None, train_sizes=np.linspace(.1, 1.0, 5)):\n",
    "    \"\"\"\n",
    "    Generate a simple plot of the test and training learning curve.\n",
    "\n",
    "    Parameters\n",
    "    ----------\n",
    "    estimator : object type that implements the \"fit\" and \"predict\" methods\n",
    "        An object of that type which is cloned for each validation.\n",
    "\n",
    "    title : string\n",
    "        Title for the chart.\n",
    "\n",
    "    X : array-like, shape (n_samples, n_features)\n",
    "        Training vector, where n_samples is the number of samples and\n",
    "        n_features is the number of features.\n",
    "\n",
    "    y : array-like, shape (n_samples) or (n_samples, n_features), optional\n",
    "        Target relative to X for classification or regression;\n",
    "        None for unsupervised learning.\n",
    "\n",
    "    ylim : tuple, shape (ymin, ymax), optional\n",
    "        Defines minimum and maximum yvalues plotted.\n",
    "\n",
    "    cv : int, cross-validation generator or an iterable, optional\n",
    "        Determines the cross-validation splitting strategy.\n",
    "        Possible inputs for cv are:\n",
    "          - None, to use the default 3-fold cross-validation,\n",
    "          - integer, to specify the number of folds.\n",
    "          - An object to be used as a cross-validation generator.\n",
    "          - An iterable yielding train/test splits.\n",
    "\n",
    "        For integer/None inputs, if ``y`` is binary or multiclass,\n",
    "        :class:`StratifiedKFold` used. If the estimator is not a classifier\n",
    "        or if ``y`` is neither binary nor multiclass, :class:`KFold` is used.\n",
    "\n",
    "        Refer :ref:`User Guide <cross_validation>` for the various\n",
    "        cross-validators that can be used here.\n",
    "\n",
    "    n_jobs : int or None, optional (default=None)\n",
    "        Number of jobs to run in parallel.\n",
    "        ``None`` means 1 unless in a :obj:`joblib.parallel_backend` context.\n",
    "        ``-1`` means using all processors. See :term:`Glossary <n_jobs>`\n",
    "        for more details.\n",
    "\n",
    "    train_sizes : array-like, shape (n_ticks,), dtype float or int\n",
    "        Relative or absolute numbers of training examples that will be used to\n",
    "        generate the learning curve. If the dtype is float, it is regarded as a\n",
    "        fraction of the maximum size of the training set (that is determined\n",
    "        by the selected validation method), i.e. it has to be within (0, 1].\n",
    "        Otherwise it is interpreted as absolute sizes of the training sets.\n",
    "        Note that for classification the number of samples usually have to\n",
    "        be big enough to contain at least one sample from each class.\n",
    "        (default: np.linspace(0.1, 1.0, 5))\n",
    "    \"\"\"\n",
    "    plt.figure()\n",
    "    plt.title(title)\n",
    "    if ylim is not None:\n",
    "        plt.ylim(*ylim)\n",
    "    plt.xlabel(\"Training examples\")\n",
    "    plt.ylabel(\"Score\")\n",
    "    train_sizes, train_scores, test_scores = learning_curve(\n",
    "        estimator, X, y, cv=cv, n_jobs=n_jobs, train_sizes=train_sizes)\n",
    "    train_scores_mean = np.mean(train_scores, axis=1)\n",
    "    train_scores_std = np.std(train_scores, axis=1)\n",
    "    test_scores_mean = np.mean(test_scores, axis=1)\n",
    "    test_scores_std = np.std(test_scores, axis=1)\n",
    "    plt.grid()\n",
    "\n",
    "    plt.fill_between(train_sizes, train_scores_mean - train_scores_std,\n",
    "                     train_scores_mean + train_scores_std, alpha=0.1,\n",
    "                     color=\"r\")\n",
    "    plt.fill_between(train_sizes, test_scores_mean - test_scores_std,\n",
    "                     test_scores_mean + test_scores_std, alpha=0.1, color=\"g\")\n",
    "    plt.plot(train_sizes, train_scores_mean, 'o-', color=\"r\",\n",
    "             label=\"Training score\")\n",
    "    plt.plot(train_sizes, test_scores_mean, 'o-', color=\"g\",\n",
    "             label=\"Cross-validation score\")\n",
    "\n",
    "    plt.legend(loc=\"best\")\n",
    "    return plt"
   ]
  },
  {
   "cell_type": "code",
   "execution_count": 90,
   "id": "bc0ab3d2",
   "metadata": {},
   "outputs": [
    {
     "data": {
      "image/png": "[encoded data removed]",
      "text/plain": [
       "<Figure size 432x288 with 1 Axes>"
      ]
     },
     "metadata": {
      "needs_background": "light"
     },
     "output_type": "display_data"
    },
    {
     "data": {
      "image/png": "[encoded data removed]",
      "text/plain": [
       "<Figure size 432x288 with 1 Axes>"
      ]
     },
     "metadata": {
      "needs_background": "light"
     },
     "output_type": "display_data"
    }
   ],
   "source": [
    "title = \"Learning Curves (LogisticReg)\"\n",
    "# Cross validation with 10 iterations to get smoother mean test and train\n",
    "# score curves, each time with 20% data randomly selected as a validation set.\n",
    "cv = ShuffleSplit(n_splits=10, test_size=0.2, random_state=0)\n",
    "\n",
    "estimator = LogisticRegression()\n",
    "plot_learning_curve(estimator, title, train_prepared, train_y, ylim=(0.7, 1.01), cv=cv, n_jobs=4)\n",
    "\n",
    "title = \"Learning Curves (SVM, RBF kernel, $\\gamma=0.001$)\"\n",
    "# SVC is more expensive so we do a lower number of CV iterations:\n",
    "cv = ShuffleSplit(n_splits=10, test_size=0.2, random_state=0)\n",
    "estimator = SVC(gamma=0.001)\n",
    "plot_learning_curve(estimator, title, train_prepared, train_y, (0.7, 1.01), cv=cv, n_jobs=4)\n",
    "\n",
    "plt.show()"
   ]
  },
  {
   "cell_type": "markdown",
   "id": "f70033ae",
   "metadata": {},
   "source": [
    "### Both models are underfitting but Logistic regression performs slightly better. Adding more data will not help. \n",
    "\n",
    "### Let's try Random Forest"
   ]
  },
  {
   "cell_type": "code",
   "execution_count": 41,
   "id": "afaf416e",
   "metadata": {},
   "outputs": [
    {
     "name": "stdout",
     "output_type": "stream",
     "text": [
      "0.7828524393734788\n"
     ]
    }
   ],
   "source": [
    "rf = RandomForestClassifier(n_estimators=100,max_depth=10,random_state=0)\n",
    "print(np.mean(cross_val_score(rf, train_prepared, train_y, cv=5)))"
   ]
  },
  {
   "cell_type": "markdown",
   "id": "cd0d4228",
   "metadata": {},
   "source": [
    "### Re-try with hyper parameter tuning"
   ]
  },
  {
   "cell_type": "code",
   "execution_count": 42,
   "id": "dc49ea56",
   "metadata": {},
   "outputs": [],
   "source": [
    "param_grid = {'n_estimators': [50,100,150],'max_depth': [10,15,20]}"
   ]
  },
  {
   "cell_type": "code",
   "execution_count": 43,
   "id": "0d748ee7",
   "metadata": {},
   "outputs": [
    {
     "data": {
      "text/plain": [
       "GridSearchCV(cv=5, estimator=RandomForestClassifier(random_state=0),\n",
       "             param_grid={'max_depth': [10, 15, 20],\n",
       "                         'n_estimators': [50, 100, 150]})"
      ]
     },
     "execution_count": 43,
     "metadata": {},
     "output_type": "execute_result"
    }
   ],
   "source": [
    "rf = RandomForestClassifier(random_state=0)\n",
    "grid_rf = GridSearchCV(rf, param_grid, cv=5)\n",
    "grid_rf.fit(train_prepared, train_y)"
   ]
  },
  {
   "cell_type": "code",
   "execution_count": 44,
   "id": "d27fd6a9",
   "metadata": {},
   "outputs": [
    {
     "data": {
      "text/plain": [
       "{'max_depth': 15, 'n_estimators': 100}"
      ]
     },
     "execution_count": 44,
     "metadata": {},
     "output_type": "execute_result"
    }
   ],
   "source": [
    "grid_rf.best_params_"
   ]
  },
  {
   "cell_type": "code",
   "execution_count": 45,
   "id": "77ec7b3f",
   "metadata": {},
   "outputs": [],
   "source": [
    "best_grid = grid_rf.best_estimator_\n",
    "predictions = best_grid.predict(train_prepared)"
   ]
  },
  {
   "cell_type": "code",
   "execution_count": 46,
   "id": "45f656db",
   "metadata": {},
   "outputs": [
    {
     "name": "stdout",
     "output_type": "stream",
     "text": [
      "0.9008873809213102\n",
      "0.8435669801652551\n"
     ]
    }
   ],
   "source": [
    "print(best_grid.score(train_prepared, train_y))\n",
    "print(roc_auc_score(train_y,predictions))"
   ]
  },
  {
   "cell_type": "code",
   "execution_count": 47,
   "id": "9c0bd450",
   "metadata": {},
   "outputs": [
    {
     "name": "stdout",
     "output_type": "stream",
     "text": [
      "0.7867954070981211\n",
      "0.6803204954453042\n"
     ]
    }
   ],
   "source": [
    "predictions_test = best_grid.predict(test_prepared)\n",
    "print(best_grid.score(test_prepared, test_y))\n",
    "print(roc_auc_score(test_y,predictions_test))"
   ]
  },
  {
   "cell_type": "markdown",
   "id": "bc70d556",
   "metadata": {},
   "source": [
    "### Random Forest performs well on training data but doesn't generalize well on test data.\n",
    "\n",
    "### Let's try XGBoost"
   ]
  },
  {
   "cell_type": "code",
   "execution_count": 48,
   "id": "dc463715",
   "metadata": {},
   "outputs": [
    {
     "name": "stdout",
     "output_type": "stream",
     "text": [
      "[11:22:51] WARNING: ..\\src\\learner.cc:1061: Starting in XGBoost 1.3.0, the default evaluation metric used with the objective 'binary:logistic' was changed from 'error' to 'logloss'. Explicitly set eval_metric if you'd like to restore the old behavior.\n"
     ]
    }
   ],
   "source": [
    "xgb_model = XGBClassifier(max_depth=10, n_estimators=100, learning_rate=0.002, use_label_encoder=False).fit(train_prepared, train_y)"
   ]
  },
  {
   "cell_type": "code",
   "execution_count": 49,
   "id": "45f08d99",
   "metadata": {},
   "outputs": [],
   "source": [
    "predictions = xgb_model.predict(train_prepared)"
   ]
  },
  {
   "cell_type": "code",
   "execution_count": 50,
   "id": "378b540c",
   "metadata": {},
   "outputs": [
    {
     "name": "stdout",
     "output_type": "stream",
     "text": [
      "0.830745138979512\n",
      "0.781276954303614\n"
     ]
    }
   ],
   "source": [
    "print(xgb_model.score(train_prepared, train_y))\n",
    "print(roc_auc_score(train_y,predictions))"
   ]
  },
  {
   "cell_type": "code",
   "execution_count": 51,
   "id": "23eeeac6",
   "metadata": {},
   "outputs": [],
   "source": [
    "predictions_test = xgb_model.predict(test_prepared)"
   ]
  },
  {
   "cell_type": "code",
   "execution_count": 52,
   "id": "b62b9aaa",
   "metadata": {},
   "outputs": [
    {
     "name": "stdout",
     "output_type": "stream",
     "text": [
      "0.7907098121085595\n",
      "0.7231615562683938\n"
     ]
    }
   ],
   "source": [
    "print(xgb_model.score(test_prepared, test_y))\n",
    "print(roc_auc_score(test_y,predictions_test))"
   ]
  },
  {
   "cell_type": "markdown",
   "id": "1f3fb78a",
   "metadata": {},
   "source": [
    "### This is little better although model is overfitting on the training data. Let's check the confusion matrix"
   ]
  },
  {
   "cell_type": "code",
   "execution_count": 53,
   "id": "e4dfe5cd",
   "metadata": {},
   "outputs": [
    {
     "data": {
      "text/plain": [
       "array([[2480,  379],\n",
       "       [ 423,  550]], dtype=int64)"
      ]
     },
     "execution_count": 53,
     "metadata": {},
     "output_type": "execute_result"
    }
   ],
   "source": [
    "confusion_matrix(predictions_test, test_y)"
   ]
  },
  {
   "cell_type": "markdown",
   "id": "584457e5",
   "metadata": {},
   "source": [
    "### This is an okay model. We can simplify the model a little so that it generalizes better on the test data"
   ]
  },
  {
   "cell_type": "code",
   "execution_count": 90,
   "id": "3abe1659",
   "metadata": {},
   "outputs": [
    {
     "name": "stdout",
     "output_type": "stream",
     "text": [
      "[11:48:51] WARNING: ..\\src\\learner.cc:1061: Starting in XGBoost 1.3.0, the default evaluation metric used with the objective 'binary:logistic' was changed from 'error' to 'logloss'. Explicitly set eval_metric if you'd like to restore the old behavior.\n"
     ]
    }
   ],
   "source": [
    "xgb_model2 = XGBClassifier(max_depth=6, n_estimators=50, learning_rate=0.01, use_label_encoder=False).fit(train_prepared, train_y)"
   ]
  },
  {
   "cell_type": "code",
   "execution_count": 91,
   "id": "ade36986",
   "metadata": {},
   "outputs": [],
   "source": [
    "predictions2 = xgb_model2.predict(train_prepared)"
   ]
  },
  {
   "cell_type": "code",
   "execution_count": 92,
   "id": "cc665645",
   "metadata": {},
   "outputs": [
    {
     "name": "stdout",
     "output_type": "stream",
     "text": [
      "0.8071903954064987\n",
      "0.7513855485627572\n"
     ]
    }
   ],
   "source": [
    "print(xgb_model2.score(train_prepared, train_y))\n",
    "print(roc_auc_score(train_y,predictions2))"
   ]
  },
  {
   "cell_type": "code",
   "execution_count": 93,
   "id": "40b7757b",
   "metadata": {},
   "outputs": [],
   "source": [
    "predictions_test2 = xgb_model2.predict(test_prepared)"
   ]
  },
  {
   "cell_type": "code",
   "execution_count": 94,
   "id": "1b536f6a",
   "metadata": {},
   "outputs": [
    {
     "name": "stdout",
     "output_type": "stream",
     "text": [
      "0.7920146137787056\n",
      "0.7273165319866943\n"
     ]
    }
   ],
   "source": [
    "print(xgb_model2.score(test_prepared, test_y))\n",
    "print(roc_auc_score(test_y,predictions_test2))"
   ]
  },
  {
   "cell_type": "code",
   "execution_count": 95,
   "id": "2bacdd3c",
   "metadata": {},
   "outputs": [
    {
     "data": {
      "text/plain": [
       "array([[2476,  370],\n",
       "       [ 427,  559]], dtype=int64)"
      ]
     },
     "execution_count": 95,
     "metadata": {},
     "output_type": "execute_result"
    }
   ],
   "source": [
    "confusion_matrix(predictions_test2, test_y)"
   ]
  },
  {
   "cell_type": "markdown",
   "id": "75ab4d0d",
   "metadata": {},
   "source": [
    "### This is closer to training results hence generalizing better\n",
    "\n",
    "### Let's check feature importance"
   ]
  },
  {
   "cell_type": "code",
   "execution_count": 96,
   "id": "91ec8e77",
   "metadata": {},
   "outputs": [
    {
     "data": {
      "image/png": "[encoded data removed]",
      "text/plain": [
       "<Figure size 720x720 with 1 Axes>"
      ]
     },
     "metadata": {
      "needs_background": "light"
     },
     "output_type": "display_data"
    }
   ],
   "source": [
    "ax = plot_importance(xgb_model)\n",
    "fig = ax.figure\n",
    "fig.set_size_inches(10, 10)"
   ]
  },
  {
   "cell_type": "markdown",
   "id": "f1d67090",
   "metadata": {},
   "source": [
    "### Training hours and city development index are the best predictors followed by total experience"
   ]
  },
  {
   "cell_type": "markdown",
   "id": "e703790e",
   "metadata": {},
   "source": [
    "#### What we have is a decent but not a great model. We can try to improve the performance by using voting classifiers or stacking that would combine various individual classifiers to give better results. However, I do not expect a lot of improvement because some very important features such as employee satisfaction survey data, employee performance data, manager data, time since last promotion etc. that might be better predictors are not available."
   ]
  },
  {
   "cell_type": "code",
   "execution_count": null,
   "id": "c70d5f81",
   "metadata": {},
   "outputs": [],
   "source": []
  }
 ],
 "metadata": {
  "kernelspec": {
   "display_name": "Python 3",
   "language": "python",
   "name": "python3"
  },
  "language_info": {
   "codemirror_mode": {
    "name": "ipython",
    "version": 3
   },
   "file_extension": ".py",
   "mimetype": "text/x-python",
   "name": "python",
   "nbconvert_exporter": "python",
   "pygments_lexer": "ipython3",
   "version": "3.8.8"
  }
 },
 "nbformat": 4,
 "nbformat_minor": 5
}
