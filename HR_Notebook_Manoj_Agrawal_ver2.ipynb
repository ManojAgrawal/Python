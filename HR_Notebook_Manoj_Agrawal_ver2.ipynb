{
 "cells": [
  {
   "cell_type": "markdown",
   "id": "dc487f5c",
   "metadata": {},
   "source": [
    "## A machine learning model exercise on HR Data available on Kaggle by Manoj Agrawal\n",
    "\n",
    "https://www.kaggle.com/arashnic/hr-analytics-job-change-of-data-scientists\n",
    "\n",
    "\"A company which is active in Big Data and Data Science wants to hire data scientists among people who successfully pass some courses that are conducted by the same company. Company wants to know which of these candidates really want to work for the company after completing their training or looking for a new employment because it helps to reduce the cost and time as well as the quality of training or planning the courses and categorization of candidates. Information related to demographics, education, experience are in hands from candidates signup and enrollment.\"\n",
    "\n",
    "Features\n",
    "\n",
    "enrollee_id : Unique ID for candidate\n",
    "\n",
    "city: City code\n",
    "\n",
    "city_ development _index : Developement index of the city (scaled)\n",
    "\n",
    "gender: Gender of candidate\n",
    "\n",
    "relevent_experience: Relevant experience of candidate\n",
    "\n",
    "enrolled_university: Type of University course enrolled if any\n",
    "\n",
    "education_level: Education level of candidate\n",
    "\n",
    "major_discipline :Education major discipline of candidate\n",
    "\n",
    "experience: Candidate total experience in years\n",
    "\n",
    "company_size: No of employees in current employer's company\n",
    "\n",
    "company_type : Type of current employer\n",
    "\n",
    "lastnewjob: Difference in years between previous job and current job\n",
    "\n",
    "training_hours: training hours completed\n",
    "\n",
    "target: 0 – Not looking for job change, 1 – Looking for a job change"
   ]
  },
  {
   "cell_type": "code",
   "execution_count": 162,
   "id": "99bfe389",
   "metadata": {},
   "outputs": [],
   "source": [
    "import numpy as np\n",
    "import pandas as pd\n",
    "import matplotlib.pyplot as plt\n",
    "\n",
    "import os\n",
    "\n",
    "from sklearn.base import BaseEstimator, TransformerMixin\n",
    "from sklearn.pipeline import Pipeline, FeatureUnion\n",
    "from sklearn.preprocessing import StandardScaler, OneHotEncoder\n",
    "from sklearn.impute import SimpleImputer\n",
    "\n",
    "from sklearn.model_selection import train_test_split\n",
    "from sklearn.model_selection import cross_val_score\n",
    "from sklearn.linear_model import LogisticRegressionCV\n",
    "from sklearn.linear_model import LogisticRegression\n",
    "from sklearn.svm import SVC\n",
    "from sklearn.ensemble import RandomForestClassifier, StackingClassifier\n",
    "from sklearn.metrics import roc_auc_score,confusion_matrix\n",
    "\n",
    "from sklearn.model_selection import learning_curve, ShuffleSplit, cross_val_score, GridSearchCV\n",
    "\n",
    "from xgboost import XGBClassifier, plot_importance"
   ]
  },
  {
   "cell_type": "markdown",
   "id": "3eac9c69",
   "metadata": {},
   "source": [
    "## Read dataset into the notebook and explore "
   ]
  },
  {
   "cell_type": "code",
   "execution_count": 163,
   "id": "c747918a",
   "metadata": {},
   "outputs": [
    {
     "data": {
      "text/html": [
       "<div>\n",
       "<style scoped>\n",
       "    .dataframe tbody tr th:only-of-type {\n",
       "        vertical-align: middle;\n",
       "    }\n",
       "\n",
       "    .dataframe tbody tr th {\n",
       "        vertical-align: top;\n",
       "    }\n",
       "\n",
       "    .dataframe thead th {\n",
       "        text-align: right;\n",
       "    }\n",
       "</style>\n",
       "<table border=\"1\" class=\"dataframe\">\n",
       "  <thead>\n",
       "    <tr style=\"text-align: right;\">\n",
       "      <th></th>\n",
       "      <th>enrollee_id</th>\n",
       "      <th>city</th>\n",
       "      <th>city_development_index</th>\n",
       "      <th>gender</th>\n",
       "      <th>relevent_experience</th>\n",
       "      <th>enrolled_university</th>\n",
       "      <th>education_level</th>\n",
       "      <th>major_discipline</th>\n",
       "      <th>experience</th>\n",
       "      <th>company_size</th>\n",
       "      <th>company_type</th>\n",
       "      <th>last_new_job</th>\n",
       "      <th>training_hours</th>\n",
       "      <th>target</th>\n",
       "    </tr>\n",
       "  </thead>\n",
       "  <tbody>\n",
       "    <tr>\n",
       "      <th>0</th>\n",
       "      <td>8949</td>\n",
       "      <td>city_103</td>\n",
       "      <td>0.920</td>\n",
       "      <td>Male</td>\n",
       "      <td>Has relevent experience</td>\n",
       "      <td>no_enrollment</td>\n",
       "      <td>Graduate</td>\n",
       "      <td>STEM</td>\n",
       "      <td>&gt;20</td>\n",
       "      <td>NaN</td>\n",
       "      <td>NaN</td>\n",
       "      <td>1</td>\n",
       "      <td>36</td>\n",
       "      <td>1.0</td>\n",
       "    </tr>\n",
       "    <tr>\n",
       "      <th>1</th>\n",
       "      <td>29725</td>\n",
       "      <td>city_40</td>\n",
       "      <td>0.776</td>\n",
       "      <td>Male</td>\n",
       "      <td>No relevent experience</td>\n",
       "      <td>no_enrollment</td>\n",
       "      <td>Graduate</td>\n",
       "      <td>STEM</td>\n",
       "      <td>15</td>\n",
       "      <td>50-99</td>\n",
       "      <td>Pvt Ltd</td>\n",
       "      <td>&gt;4</td>\n",
       "      <td>47</td>\n",
       "      <td>0.0</td>\n",
       "    </tr>\n",
       "    <tr>\n",
       "      <th>2</th>\n",
       "      <td>11561</td>\n",
       "      <td>city_21</td>\n",
       "      <td>0.624</td>\n",
       "      <td>NaN</td>\n",
       "      <td>No relevent experience</td>\n",
       "      <td>Full time course</td>\n",
       "      <td>Graduate</td>\n",
       "      <td>STEM</td>\n",
       "      <td>5</td>\n",
       "      <td>NaN</td>\n",
       "      <td>NaN</td>\n",
       "      <td>never</td>\n",
       "      <td>83</td>\n",
       "      <td>0.0</td>\n",
       "    </tr>\n",
       "    <tr>\n",
       "      <th>3</th>\n",
       "      <td>33241</td>\n",
       "      <td>city_115</td>\n",
       "      <td>0.789</td>\n",
       "      <td>NaN</td>\n",
       "      <td>No relevent experience</td>\n",
       "      <td>NaN</td>\n",
       "      <td>Graduate</td>\n",
       "      <td>Business Degree</td>\n",
       "      <td>&lt;1</td>\n",
       "      <td>NaN</td>\n",
       "      <td>Pvt Ltd</td>\n",
       "      <td>never</td>\n",
       "      <td>52</td>\n",
       "      <td>1.0</td>\n",
       "    </tr>\n",
       "    <tr>\n",
       "      <th>4</th>\n",
       "      <td>666</td>\n",
       "      <td>city_162</td>\n",
       "      <td>0.767</td>\n",
       "      <td>Male</td>\n",
       "      <td>Has relevent experience</td>\n",
       "      <td>no_enrollment</td>\n",
       "      <td>Masters</td>\n",
       "      <td>STEM</td>\n",
       "      <td>&gt;20</td>\n",
       "      <td>50-99</td>\n",
       "      <td>Funded Startup</td>\n",
       "      <td>4</td>\n",
       "      <td>8</td>\n",
       "      <td>0.0</td>\n",
       "    </tr>\n",
       "  </tbody>\n",
       "</table>\n",
       "</div>"
      ],
      "text/plain": [
       "   enrollee_id      city  city_development_index gender  \\\n",
       "0         8949  city_103                   0.920   Male   \n",
       "1        29725   city_40                   0.776   Male   \n",
       "2        11561   city_21                   0.624    NaN   \n",
       "3        33241  city_115                   0.789    NaN   \n",
       "4          666  city_162                   0.767   Male   \n",
       "\n",
       "       relevent_experience enrolled_university education_level  \\\n",
       "0  Has relevent experience       no_enrollment        Graduate   \n",
       "1   No relevent experience       no_enrollment        Graduate   \n",
       "2   No relevent experience    Full time course        Graduate   \n",
       "3   No relevent experience                 NaN        Graduate   \n",
       "4  Has relevent experience       no_enrollment         Masters   \n",
       "\n",
       "  major_discipline experience company_size    company_type last_new_job  \\\n",
       "0             STEM        >20          NaN             NaN            1   \n",
       "1             STEM         15        50-99         Pvt Ltd           >4   \n",
       "2             STEM          5          NaN             NaN        never   \n",
       "3  Business Degree         <1          NaN         Pvt Ltd        never   \n",
       "4             STEM        >20        50-99  Funded Startup            4   \n",
       "\n",
       "   training_hours  target  \n",
       "0              36     1.0  \n",
       "1              47     0.0  \n",
       "2              83     0.0  \n",
       "3              52     1.0  \n",
       "4               8     0.0  "
      ]
     },
     "execution_count": 163,
     "metadata": {},
     "output_type": "execute_result"
    }
   ],
   "source": [
    "df = pd.read_csv(\"aug_train.csv\")\n",
    "df.head()"
   ]
  },
  {
   "cell_type": "code",
   "execution_count": 164,
   "id": "062e9677",
   "metadata": {},
   "outputs": [
    {
     "name": "stdout",
     "output_type": "stream",
     "text": [
      "<class 'pandas.core.frame.DataFrame'>\n",
      "RangeIndex: 19158 entries, 0 to 19157\n",
      "Data columns (total 14 columns):\n",
      " #   Column                  Non-Null Count  Dtype  \n",
      "---  ------                  --------------  -----  \n",
      " 0   enrollee_id             19158 non-null  int64  \n",
      " 1   city                    19158 non-null  object \n",
      " 2   city_development_index  19158 non-null  float64\n",
      " 3   gender                  14650 non-null  object \n",
      " 4   relevent_experience     19158 non-null  object \n",
      " 5   enrolled_university     18772 non-null  object \n",
      " 6   education_level         18698 non-null  object \n",
      " 7   major_discipline        16345 non-null  object \n",
      " 8   experience              19093 non-null  object \n",
      " 9   company_size            13220 non-null  object \n",
      " 10  company_type            13018 non-null  object \n",
      " 11  last_new_job            18735 non-null  object \n",
      " 12  training_hours          19158 non-null  int64  \n",
      " 13  target                  19158 non-null  float64\n",
      "dtypes: float64(2), int64(2), object(10)\n",
      "memory usage: 2.0+ MB\n"
     ]
    }
   ],
   "source": [
    "df.info()"
   ]
  },
  {
   "cell_type": "markdown",
   "id": "8b359a1f",
   "metadata": {},
   "source": [
    "### Enrollee id is not needed for modeling so we can drop it from dataset"
   ]
  },
  {
   "cell_type": "code",
   "execution_count": 165,
   "id": "6baf7142",
   "metadata": {},
   "outputs": [],
   "source": [
    "df.drop(['enrollee_id'], axis = 1, inplace=True)"
   ]
  },
  {
   "cell_type": "markdown",
   "id": "8c4db19e",
   "metadata": {},
   "source": [
    "### Explore the numerical data"
   ]
  },
  {
   "cell_type": "code",
   "execution_count": 166,
   "id": "79baed8b",
   "metadata": {},
   "outputs": [
    {
     "data": {
      "text/html": [
       "<div>\n",
       "<style scoped>\n",
       "    .dataframe tbody tr th:only-of-type {\n",
       "        vertical-align: middle;\n",
       "    }\n",
       "\n",
       "    .dataframe tbody tr th {\n",
       "        vertical-align: top;\n",
       "    }\n",
       "\n",
       "    .dataframe thead th {\n",
       "        text-align: right;\n",
       "    }\n",
       "</style>\n",
       "<table border=\"1\" class=\"dataframe\">\n",
       "  <thead>\n",
       "    <tr style=\"text-align: right;\">\n",
       "      <th></th>\n",
       "      <th>city_development_index</th>\n",
       "      <th>training_hours</th>\n",
       "      <th>target</th>\n",
       "    </tr>\n",
       "  </thead>\n",
       "  <tbody>\n",
       "    <tr>\n",
       "      <th>count</th>\n",
       "      <td>19158.000000</td>\n",
       "      <td>19158.000000</td>\n",
       "      <td>19158.000000</td>\n",
       "    </tr>\n",
       "    <tr>\n",
       "      <th>mean</th>\n",
       "      <td>0.828848</td>\n",
       "      <td>65.366896</td>\n",
       "      <td>0.249348</td>\n",
       "    </tr>\n",
       "    <tr>\n",
       "      <th>std</th>\n",
       "      <td>0.123362</td>\n",
       "      <td>60.058462</td>\n",
       "      <td>0.432647</td>\n",
       "    </tr>\n",
       "    <tr>\n",
       "      <th>min</th>\n",
       "      <td>0.448000</td>\n",
       "      <td>1.000000</td>\n",
       "      <td>0.000000</td>\n",
       "    </tr>\n",
       "    <tr>\n",
       "      <th>25%</th>\n",
       "      <td>0.740000</td>\n",
       "      <td>23.000000</td>\n",
       "      <td>0.000000</td>\n",
       "    </tr>\n",
       "    <tr>\n",
       "      <th>50%</th>\n",
       "      <td>0.903000</td>\n",
       "      <td>47.000000</td>\n",
       "      <td>0.000000</td>\n",
       "    </tr>\n",
       "    <tr>\n",
       "      <th>75%</th>\n",
       "      <td>0.920000</td>\n",
       "      <td>88.000000</td>\n",
       "      <td>0.000000</td>\n",
       "    </tr>\n",
       "    <tr>\n",
       "      <th>max</th>\n",
       "      <td>0.949000</td>\n",
       "      <td>336.000000</td>\n",
       "      <td>1.000000</td>\n",
       "    </tr>\n",
       "  </tbody>\n",
       "</table>\n",
       "</div>"
      ],
      "text/plain": [
       "       city_development_index  training_hours        target\n",
       "count            19158.000000    19158.000000  19158.000000\n",
       "mean                 0.828848       65.366896      0.249348\n",
       "std                  0.123362       60.058462      0.432647\n",
       "min                  0.448000        1.000000      0.000000\n",
       "25%                  0.740000       23.000000      0.000000\n",
       "50%                  0.903000       47.000000      0.000000\n",
       "75%                  0.920000       88.000000      0.000000\n",
       "max                  0.949000      336.000000      1.000000"
      ]
     },
     "execution_count": 166,
     "metadata": {},
     "output_type": "execute_result"
    }
   ],
   "source": [
    "df.describe()"
   ]
  },
  {
   "cell_type": "markdown",
   "id": "6afe7603",
   "metadata": {},
   "source": [
    "### Split the datset into train and test"
   ]
  },
  {
   "cell_type": "code",
   "execution_count": 167,
   "id": "4df137a4",
   "metadata": {},
   "outputs": [
    {
     "name": "stdout",
     "output_type": "stream",
     "text": [
      "0.0    11500\n",
      "1.0     3826\n",
      "Name: target, dtype: int64\n",
      "0.0    2881\n",
      "1.0     951\n",
      "Name: target, dtype: int64\n"
     ]
    }
   ],
   "source": [
    "df.sample(frac=1, random_state=10).reset_index(drop=True)\n",
    "train, test = train_test_split(df, test_size=0.2,random_state=11)\n",
    "print(train['target'].value_counts())\n",
    "print(test['target'].value_counts())"
   ]
  },
  {
   "cell_type": "code",
   "execution_count": 168,
   "id": "f0d37766",
   "metadata": {},
   "outputs": [
    {
     "name": "stdout",
     "output_type": "stream",
     "text": [
      "0.2496411327156466\n",
      "0.2481732776617954\n"
     ]
    }
   ],
   "source": [
    "print(train['target'].sum()/len(train['target']))\n",
    "print(test['target'].sum()/len(test['target']))"
   ]
  },
  {
   "cell_type": "code",
   "execution_count": 169,
   "id": "9447f2eb",
   "metadata": {},
   "outputs": [
    {
     "data": {
      "text/html": [
       "<div>\n",
       "<style scoped>\n",
       "    .dataframe tbody tr th:only-of-type {\n",
       "        vertical-align: middle;\n",
       "    }\n",
       "\n",
       "    .dataframe tbody tr th {\n",
       "        vertical-align: top;\n",
       "    }\n",
       "\n",
       "    .dataframe thead th {\n",
       "        text-align: right;\n",
       "    }\n",
       "</style>\n",
       "<table border=\"1\" class=\"dataframe\">\n",
       "  <thead>\n",
       "    <tr style=\"text-align: right;\">\n",
       "      <th></th>\n",
       "      <th>city</th>\n",
       "      <th>city_development_index</th>\n",
       "      <th>gender</th>\n",
       "      <th>relevent_experience</th>\n",
       "      <th>enrolled_university</th>\n",
       "      <th>education_level</th>\n",
       "      <th>major_discipline</th>\n",
       "      <th>experience</th>\n",
       "      <th>company_size</th>\n",
       "      <th>company_type</th>\n",
       "      <th>last_new_job</th>\n",
       "      <th>training_hours</th>\n",
       "    </tr>\n",
       "  </thead>\n",
       "  <tbody>\n",
       "    <tr>\n",
       "      <th>3215</th>\n",
       "      <td>city_21</td>\n",
       "      <td>0.624</td>\n",
       "      <td>Male</td>\n",
       "      <td>No relevent experience</td>\n",
       "      <td>no_enrollment</td>\n",
       "      <td>Graduate</td>\n",
       "      <td>STEM</td>\n",
       "      <td>5</td>\n",
       "      <td>10000+</td>\n",
       "      <td>Pvt Ltd</td>\n",
       "      <td>1</td>\n",
       "      <td>17</td>\n",
       "    </tr>\n",
       "    <tr>\n",
       "      <th>10438</th>\n",
       "      <td>city_103</td>\n",
       "      <td>0.920</td>\n",
       "      <td>Male</td>\n",
       "      <td>Has relevent experience</td>\n",
       "      <td>no_enrollment</td>\n",
       "      <td>Masters</td>\n",
       "      <td>STEM</td>\n",
       "      <td>20</td>\n",
       "      <td>10000+</td>\n",
       "      <td>Pvt Ltd</td>\n",
       "      <td>&gt;4</td>\n",
       "      <td>22</td>\n",
       "    </tr>\n",
       "    <tr>\n",
       "      <th>14889</th>\n",
       "      <td>city_103</td>\n",
       "      <td>0.920</td>\n",
       "      <td>Male</td>\n",
       "      <td>No relevent experience</td>\n",
       "      <td>no_enrollment</td>\n",
       "      <td>Masters</td>\n",
       "      <td>Business Degree</td>\n",
       "      <td>11</td>\n",
       "      <td>10000+</td>\n",
       "      <td>Pvt Ltd</td>\n",
       "      <td>&gt;4</td>\n",
       "      <td>12</td>\n",
       "    </tr>\n",
       "    <tr>\n",
       "      <th>3860</th>\n",
       "      <td>city_103</td>\n",
       "      <td>0.920</td>\n",
       "      <td>Male</td>\n",
       "      <td>No relevent experience</td>\n",
       "      <td>Full time course</td>\n",
       "      <td>Graduate</td>\n",
       "      <td>STEM</td>\n",
       "      <td>2</td>\n",
       "      <td>50-99</td>\n",
       "      <td>Pvt Ltd</td>\n",
       "      <td>1</td>\n",
       "      <td>48</td>\n",
       "    </tr>\n",
       "    <tr>\n",
       "      <th>17958</th>\n",
       "      <td>city_103</td>\n",
       "      <td>0.920</td>\n",
       "      <td>Male</td>\n",
       "      <td>Has relevent experience</td>\n",
       "      <td>Part time course</td>\n",
       "      <td>Graduate</td>\n",
       "      <td>STEM</td>\n",
       "      <td>4</td>\n",
       "      <td>1000-4999</td>\n",
       "      <td>Pvt Ltd</td>\n",
       "      <td>1</td>\n",
       "      <td>66</td>\n",
       "    </tr>\n",
       "  </tbody>\n",
       "</table>\n",
       "</div>"
      ],
      "text/plain": [
       "           city  city_development_index gender      relevent_experience  \\\n",
       "3215    city_21                   0.624   Male   No relevent experience   \n",
       "10438  city_103                   0.920   Male  Has relevent experience   \n",
       "14889  city_103                   0.920   Male   No relevent experience   \n",
       "3860   city_103                   0.920   Male   No relevent experience   \n",
       "17958  city_103                   0.920   Male  Has relevent experience   \n",
       "\n",
       "      enrolled_university education_level major_discipline experience  \\\n",
       "3215        no_enrollment        Graduate             STEM          5   \n",
       "10438       no_enrollment         Masters             STEM         20   \n",
       "14889       no_enrollment         Masters  Business Degree         11   \n",
       "3860     Full time course        Graduate             STEM          2   \n",
       "17958    Part time course        Graduate             STEM          4   \n",
       "\n",
       "      company_size company_type last_new_job  training_hours  \n",
       "3215        10000+      Pvt Ltd            1              17  \n",
       "10438       10000+      Pvt Ltd           >4              22  \n",
       "14889       10000+      Pvt Ltd           >4              12  \n",
       "3860         50-99      Pvt Ltd            1              48  \n",
       "17958    1000-4999      Pvt Ltd            1              66  "
      ]
     },
     "execution_count": 169,
     "metadata": {},
     "output_type": "execute_result"
    }
   ],
   "source": [
    "train_y = train['target']\n",
    "test_y = test['target']\n",
    "train_X = train.drop('target', axis=1)\n",
    "test_X = test.drop('target', axis=1)\n",
    "train_X.head()"
   ]
  },
  {
   "cell_type": "markdown",
   "id": "35248e03",
   "metadata": {},
   "source": [
    "### Let's explore the numerical features for co-linearity "
   ]
  },
  {
   "cell_type": "code",
   "execution_count": 171,
   "id": "e53c1437",
   "metadata": {},
   "outputs": [
    {
     "data": {
      "text/html": [
       "<div>\n",
       "<style scoped>\n",
       "    .dataframe tbody tr th:only-of-type {\n",
       "        vertical-align: middle;\n",
       "    }\n",
       "\n",
       "    .dataframe tbody tr th {\n",
       "        vertical-align: top;\n",
       "    }\n",
       "\n",
       "    .dataframe thead th {\n",
       "        text-align: right;\n",
       "    }\n",
       "</style>\n",
       "<table border=\"1\" class=\"dataframe\">\n",
       "  <thead>\n",
       "    <tr style=\"text-align: right;\">\n",
       "      <th></th>\n",
       "      <th>city_development_index</th>\n",
       "      <th>training_hours</th>\n",
       "    </tr>\n",
       "  </thead>\n",
       "  <tbody>\n",
       "    <tr>\n",
       "      <th>city_development_index</th>\n",
       "      <td>1.000000</td>\n",
       "      <td>0.006851</td>\n",
       "    </tr>\n",
       "    <tr>\n",
       "      <th>training_hours</th>\n",
       "      <td>0.006851</td>\n",
       "      <td>1.000000</td>\n",
       "    </tr>\n",
       "  </tbody>\n",
       "</table>\n",
       "</div>"
      ],
      "text/plain": [
       "                        city_development_index  training_hours\n",
       "city_development_index                1.000000        0.006851\n",
       "training_hours                        0.006851        1.000000"
      ]
     },
     "execution_count": 171,
     "metadata": {},
     "output_type": "execute_result"
    }
   ],
   "source": [
    "train_X.corr()"
   ]
  },
  {
   "cell_type": "markdown",
   "id": "850bb66b",
   "metadata": {},
   "source": [
    "### Let's if there are any patterns in the numerical data"
   ]
  },
  {
   "cell_type": "code",
   "execution_count": 200,
   "id": "260f19df",
   "metadata": {},
   "outputs": [
    {
     "name": "stdout",
     "output_type": "stream",
     "text": [
      "0.7550554103502263\n",
      "0.8529577391304473\n"
     ]
    }
   ],
   "source": [
    "print(train[train['target']==1].city_development_index.mean())\n",
    "print(train[train['target']==0].city_development_index.mean())"
   ]
  },
  {
   "cell_type": "code",
   "execution_count": 201,
   "id": "0c4faba7",
   "metadata": {},
   "outputs": [
    {
     "name": "stdout",
     "output_type": "stream",
     "text": [
      "63.09592263460533\n",
      "66.12052173913044\n"
     ]
    }
   ],
   "source": [
    "print(train[train['target']==1].training_hours.mean())\n",
    "print(train[train['target']==0].training_hours.mean())"
   ]
  },
  {
   "cell_type": "markdown",
   "id": "bf70b280",
   "metadata": {},
   "source": [
    "### Let's check the distribution"
   ]
  },
  {
   "cell_type": "code",
   "execution_count": 176,
   "id": "2bcc8b43",
   "metadata": {},
   "outputs": [
    {
     "data": {
      "text/plain": [
       "<function matplotlib.pyplot.show(close=None, block=None)>"
      ]
     },
     "execution_count": 176,
     "metadata": {},
     "output_type": "execute_result"
    },
    {
     "data": {
      "image/png": "[encoded data removed]",
      "text/plain": [
       "<Figure size 1440x360 with 2 Axes>"
      ]
     },
     "metadata": {
      "needs_background": "light"
     },
     "output_type": "display_data"
    }
   ],
   "source": [
    "train_X.hist(bins=50,figsize=(20,5))\n",
    "plt.show"
   ]
  },
  {
   "cell_type": "markdown",
   "id": "e891f726",
   "metadata": {},
   "source": [
    "### Lets use log transformation on 'training hours' and check the histograms"
   ]
  },
  {
   "cell_type": "code",
   "execution_count": 178,
   "id": "46f66184",
   "metadata": {},
   "outputs": [
    {
     "data": {
      "text/plain": [
       "<function matplotlib.pyplot.show(close=None, block=None)>"
      ]
     },
     "execution_count": 178,
     "metadata": {},
     "output_type": "execute_result"
    },
    {
     "data": {
      "image/png": "[encoded data removed]",
      "text/plain": [
       "<Figure size 1440x720 with 4 Axes>"
      ]
     },
     "metadata": {
      "needs_background": "light"
     },
     "output_type": "display_data"
    }
   ],
   "source": [
    "train_X['training_hrs_log'] = np.log1p(train_X['training_hours'])\n",
    "train_X.hist(bins=50,figsize=(20,10))\n",
    "plt.show"
   ]
  },
  {
   "cell_type": "markdown",
   "id": "382bfeac",
   "metadata": {},
   "source": [
    "### This is better, we can do the same for test dataset and remove the training hours column"
   ]
  },
  {
   "cell_type": "code",
   "execution_count": 179,
   "id": "43fc08bf",
   "metadata": {},
   "outputs": [],
   "source": [
    "test_X['training_hrs_log'] = np.log1p(test_X['training_hours'])\n",
    "train_X.drop('training_hours',axis = 1, inplace= True)\n",
    "test_X.drop('training_hours',axis = 1, inplace= True)"
   ]
  },
  {
   "cell_type": "markdown",
   "id": "f800d363",
   "metadata": {},
   "source": [
    "### Let's explore some categorical features to see if there are any recognizable patterns"
   ]
  },
  {
   "cell_type": "code",
   "execution_count": 181,
   "id": "3677f678",
   "metadata": {},
   "outputs": [
    {
     "data": {
      "text/html": [
       "<div>\n",
       "<style scoped>\n",
       "    .dataframe tbody tr th:only-of-type {\n",
       "        vertical-align: middle;\n",
       "    }\n",
       "\n",
       "    .dataframe tbody tr th {\n",
       "        vertical-align: top;\n",
       "    }\n",
       "\n",
       "    .dataframe thead th {\n",
       "        text-align: right;\n",
       "    }\n",
       "</style>\n",
       "<table border=\"1\" class=\"dataframe\">\n",
       "  <thead>\n",
       "    <tr style=\"text-align: right;\">\n",
       "      <th></th>\n",
       "      <th>target</th>\n",
       "    </tr>\n",
       "    <tr>\n",
       "      <th>gender</th>\n",
       "      <th></th>\n",
       "    </tr>\n",
       "  </thead>\n",
       "  <tbody>\n",
       "    <tr>\n",
       "      <th>Female</th>\n",
       "      <td>0.269809</td>\n",
       "    </tr>\n",
       "    <tr>\n",
       "      <th>Other</th>\n",
       "      <td>0.231788</td>\n",
       "    </tr>\n",
       "    <tr>\n",
       "      <th>Male</th>\n",
       "      <td>0.226179</td>\n",
       "    </tr>\n",
       "  </tbody>\n",
       "</table>\n",
       "</div>"
      ],
      "text/plain": [
       "          target\n",
       "gender          \n",
       "Female  0.269809\n",
       "Other   0.231788\n",
       "Male    0.226179"
      ]
     },
     "execution_count": 181,
     "metadata": {},
     "output_type": "execute_result"
    }
   ],
   "source": [
    "train[['target','gender']].groupby('gender').mean().sort_values(by='target', ascending = False)"
   ]
  },
  {
   "cell_type": "code",
   "execution_count": 182,
   "id": "3461dab7",
   "metadata": {},
   "outputs": [
    {
     "data": {
      "text/html": [
       "<div>\n",
       "<style scoped>\n",
       "    .dataframe tbody tr th:only-of-type {\n",
       "        vertical-align: middle;\n",
       "    }\n",
       "\n",
       "    .dataframe tbody tr th {\n",
       "        vertical-align: top;\n",
       "    }\n",
       "\n",
       "    .dataframe thead th {\n",
       "        text-align: right;\n",
       "    }\n",
       "</style>\n",
       "<table border=\"1\" class=\"dataframe\">\n",
       "  <thead>\n",
       "    <tr style=\"text-align: right;\">\n",
       "      <th></th>\n",
       "      <th>target</th>\n",
       "    </tr>\n",
       "    <tr>\n",
       "      <th>company_size</th>\n",
       "      <th></th>\n",
       "    </tr>\n",
       "  </thead>\n",
       "  <tbody>\n",
       "    <tr>\n",
       "      <th>10/49</th>\n",
       "      <td>0.237217</td>\n",
       "    </tr>\n",
       "    <tr>\n",
       "      <th>10000+</th>\n",
       "      <td>0.194581</td>\n",
       "    </tr>\n",
       "    <tr>\n",
       "      <th>5000-9999</th>\n",
       "      <td>0.179825</td>\n",
       "    </tr>\n",
       "    <tr>\n",
       "      <th>50-99</th>\n",
       "      <td>0.175888</td>\n",
       "    </tr>\n",
       "    <tr>\n",
       "      <th>500-999</th>\n",
       "      <td>0.175141</td>\n",
       "    </tr>\n",
       "    <tr>\n",
       "      <th>&lt;10</th>\n",
       "      <td>0.168571</td>\n",
       "    </tr>\n",
       "    <tr>\n",
       "      <th>100-500</th>\n",
       "      <td>0.158554</td>\n",
       "    </tr>\n",
       "    <tr>\n",
       "      <th>1000-4999</th>\n",
       "      <td>0.150517</td>\n",
       "    </tr>\n",
       "  </tbody>\n",
       "</table>\n",
       "</div>"
      ],
      "text/plain": [
       "                target\n",
       "company_size          \n",
       "10/49         0.237217\n",
       "10000+        0.194581\n",
       "5000-9999     0.179825\n",
       "50-99         0.175888\n",
       "500-999       0.175141\n",
       "<10           0.168571\n",
       "100-500       0.158554\n",
       "1000-4999     0.150517"
      ]
     },
     "execution_count": 182,
     "metadata": {},
     "output_type": "execute_result"
    }
   ],
   "source": [
    "train[['target','company_size']].groupby('company_size').mean().sort_values(by='target', ascending = False)"
   ]
  },
  {
   "cell_type": "code",
   "execution_count": 183,
   "id": "9b12c8e1",
   "metadata": {},
   "outputs": [
    {
     "data": {
      "text/html": [
       "<div>\n",
       "<style scoped>\n",
       "    .dataframe tbody tr th:only-of-type {\n",
       "        vertical-align: middle;\n",
       "    }\n",
       "\n",
       "    .dataframe tbody tr th {\n",
       "        vertical-align: top;\n",
       "    }\n",
       "\n",
       "    .dataframe thead th {\n",
       "        text-align: right;\n",
       "    }\n",
       "</style>\n",
       "<table border=\"1\" class=\"dataframe\">\n",
       "  <thead>\n",
       "    <tr style=\"text-align: right;\">\n",
       "      <th></th>\n",
       "      <th>target</th>\n",
       "    </tr>\n",
       "    <tr>\n",
       "      <th>company_type</th>\n",
       "      <th></th>\n",
       "    </tr>\n",
       "  </thead>\n",
       "  <tbody>\n",
       "    <tr>\n",
       "      <th>Other</th>\n",
       "      <td>0.232323</td>\n",
       "    </tr>\n",
       "    <tr>\n",
       "      <th>Early Stage Startup</th>\n",
       "      <td>0.226611</td>\n",
       "    </tr>\n",
       "    <tr>\n",
       "      <th>Public Sector</th>\n",
       "      <td>0.212366</td>\n",
       "    </tr>\n",
       "    <tr>\n",
       "      <th>NGO</th>\n",
       "      <td>0.182898</td>\n",
       "    </tr>\n",
       "    <tr>\n",
       "      <th>Pvt Ltd</th>\n",
       "      <td>0.181899</td>\n",
       "    </tr>\n",
       "    <tr>\n",
       "      <th>Funded Startup</th>\n",
       "      <td>0.142327</td>\n",
       "    </tr>\n",
       "  </tbody>\n",
       "</table>\n",
       "</div>"
      ],
      "text/plain": [
       "                       target\n",
       "company_type                 \n",
       "Other                0.232323\n",
       "Early Stage Startup  0.226611\n",
       "Public Sector        0.212366\n",
       "NGO                  0.182898\n",
       "Pvt Ltd              0.181899\n",
       "Funded Startup       0.142327"
      ]
     },
     "execution_count": 183,
     "metadata": {},
     "output_type": "execute_result"
    }
   ],
   "source": [
    "train[['target','company_type']].groupby('company_type').mean().sort_values(by='target', ascending = False)"
   ]
  },
  {
   "cell_type": "code",
   "execution_count": 184,
   "id": "8a4cadfa",
   "metadata": {},
   "outputs": [
    {
     "data": {
      "text/html": [
       "<div>\n",
       "<style scoped>\n",
       "    .dataframe tbody tr th:only-of-type {\n",
       "        vertical-align: middle;\n",
       "    }\n",
       "\n",
       "    .dataframe tbody tr th {\n",
       "        vertical-align: top;\n",
       "    }\n",
       "\n",
       "    .dataframe thead th {\n",
       "        text-align: right;\n",
       "    }\n",
       "</style>\n",
       "<table border=\"1\" class=\"dataframe\">\n",
       "  <thead>\n",
       "    <tr style=\"text-align: right;\">\n",
       "      <th></th>\n",
       "      <th>target</th>\n",
       "    </tr>\n",
       "    <tr>\n",
       "      <th>enrolled_university</th>\n",
       "      <th></th>\n",
       "    </tr>\n",
       "  </thead>\n",
       "  <tbody>\n",
       "    <tr>\n",
       "      <th>Full time course</th>\n",
       "      <td>0.382187</td>\n",
       "    </tr>\n",
       "    <tr>\n",
       "      <th>Part time course</th>\n",
       "      <td>0.251331</td>\n",
       "    </tr>\n",
       "    <tr>\n",
       "      <th>no_enrollment</th>\n",
       "      <td>0.211306</td>\n",
       "    </tr>\n",
       "  </tbody>\n",
       "</table>\n",
       "</div>"
      ],
      "text/plain": [
       "                       target\n",
       "enrolled_university          \n",
       "Full time course     0.382187\n",
       "Part time course     0.251331\n",
       "no_enrollment        0.211306"
      ]
     },
     "execution_count": 184,
     "metadata": {},
     "output_type": "execute_result"
    }
   ],
   "source": [
    "train[['target','enrolled_university']].groupby('enrolled_university').mean().sort_values(by='target', ascending = False)"
   ]
  },
  {
   "cell_type": "code",
   "execution_count": 185,
   "id": "2dc23a9f",
   "metadata": {},
   "outputs": [
    {
     "data": {
      "text/html": [
       "<div>\n",
       "<style scoped>\n",
       "    .dataframe tbody tr th:only-of-type {\n",
       "        vertical-align: middle;\n",
       "    }\n",
       "\n",
       "    .dataframe tbody tr th {\n",
       "        vertical-align: top;\n",
       "    }\n",
       "\n",
       "    .dataframe thead th {\n",
       "        text-align: right;\n",
       "    }\n",
       "</style>\n",
       "<table border=\"1\" class=\"dataframe\">\n",
       "  <thead>\n",
       "    <tr style=\"text-align: right;\">\n",
       "      <th></th>\n",
       "      <th>target</th>\n",
       "    </tr>\n",
       "    <tr>\n",
       "      <th>education_level</th>\n",
       "      <th></th>\n",
       "    </tr>\n",
       "  </thead>\n",
       "  <tbody>\n",
       "    <tr>\n",
       "      <th>Graduate</th>\n",
       "      <td>0.279271</td>\n",
       "    </tr>\n",
       "    <tr>\n",
       "      <th>Masters</th>\n",
       "      <td>0.222412</td>\n",
       "    </tr>\n",
       "    <tr>\n",
       "      <th>High School</th>\n",
       "      <td>0.190211</td>\n",
       "    </tr>\n",
       "    <tr>\n",
       "      <th>Phd</th>\n",
       "      <td>0.140187</td>\n",
       "    </tr>\n",
       "    <tr>\n",
       "      <th>Primary School</th>\n",
       "      <td>0.118577</td>\n",
       "    </tr>\n",
       "  </tbody>\n",
       "</table>\n",
       "</div>"
      ],
      "text/plain": [
       "                   target\n",
       "education_level          \n",
       "Graduate         0.279271\n",
       "Masters          0.222412\n",
       "High School      0.190211\n",
       "Phd              0.140187\n",
       "Primary School   0.118577"
      ]
     },
     "execution_count": 185,
     "metadata": {},
     "output_type": "execute_result"
    }
   ],
   "source": [
    "train[['target','education_level']].groupby('education_level').mean().sort_values(by='target', ascending = False) "
   ]
  },
  {
   "cell_type": "code",
   "execution_count": 186,
   "id": "855d61f4",
   "metadata": {},
   "outputs": [
    {
     "data": {
      "text/html": [
       "<div>\n",
       "<style scoped>\n",
       "    .dataframe tbody tr th:only-of-type {\n",
       "        vertical-align: middle;\n",
       "    }\n",
       "\n",
       "    .dataframe tbody tr th {\n",
       "        vertical-align: top;\n",
       "    }\n",
       "\n",
       "    .dataframe thead th {\n",
       "        text-align: right;\n",
       "    }\n",
       "</style>\n",
       "<table border=\"1\" class=\"dataframe\">\n",
       "  <thead>\n",
       "    <tr style=\"text-align: right;\">\n",
       "      <th></th>\n",
       "      <th>target</th>\n",
       "    </tr>\n",
       "    <tr>\n",
       "      <th>relevent_experience</th>\n",
       "      <th></th>\n",
       "    </tr>\n",
       "  </thead>\n",
       "  <tbody>\n",
       "    <tr>\n",
       "      <th>No relevent experience</th>\n",
       "      <td>0.334810</td>\n",
       "    </tr>\n",
       "    <tr>\n",
       "      <th>Has relevent experience</th>\n",
       "      <td>0.216544</td>\n",
       "    </tr>\n",
       "  </tbody>\n",
       "</table>\n",
       "</div>"
      ],
      "text/plain": [
       "                           target\n",
       "relevent_experience              \n",
       "No relevent experience   0.334810\n",
       "Has relevent experience  0.216544"
      ]
     },
     "execution_count": 186,
     "metadata": {},
     "output_type": "execute_result"
    }
   ],
   "source": [
    "train[['target','relevent_experience']].groupby('relevent_experience').mean().sort_values(by='target', ascending = False) "
   ]
  },
  {
   "cell_type": "code",
   "execution_count": 187,
   "id": "8e08a437",
   "metadata": {},
   "outputs": [
    {
     "data": {
      "text/plain": [
       "<AxesSubplot:xlabel='gender'>"
      ]
     },
     "execution_count": 187,
     "metadata": {},
     "output_type": "execute_result"
    },
    {
     "data": {
      "image/png": "[encoded data removed]",
      "text/plain": [
       "<Figure size 432x288 with 1 Axes>"
      ]
     },
     "metadata": {
      "needs_background": "light"
     },
     "output_type": "display_data"
    }
   ],
   "source": [
    "gender_cnts = pd.crosstab(train_X.gender, train_X.relevent_experience)\n",
    "gender_pcts = gender_cnts.div(gender_cnts.sum(1).astype(float), axis=0)\n",
    "gender_pcts.plot(kind='bar', stacked=True)"
   ]
  },
  {
   "cell_type": "markdown",
   "id": "64f888f9",
   "metadata": {},
   "source": [
    "### check cardinality of categorical columns"
   ]
  },
  {
   "cell_type": "code",
   "execution_count": 189,
   "id": "8a7707e1",
   "metadata": {},
   "outputs": [
    {
     "data": {
      "text/plain": [
       "[('relevent_experience', 2),\n",
       " ('gender', 3),\n",
       " ('enrolled_university', 3),\n",
       " ('education_level', 5),\n",
       " ('major_discipline', 6),\n",
       " ('company_type', 6),\n",
       " ('last_new_job', 6),\n",
       " ('company_size', 8),\n",
       " ('experience', 22),\n",
       " ('city', 123)]"
      ]
     },
     "execution_count": 189,
     "metadata": {},
     "output_type": "execute_result"
    }
   ],
   "source": [
    "object_cols = train_X.dtypes[train_X.dtypes=='object'].index.tolist()\n",
    "\n",
    "# Get number of unique entries in each column with categorical data\n",
    "object_nunique = list(map(lambda col: df[col].nunique(), object_cols))\n",
    "d = dict(zip(object_cols, object_nunique))\n",
    "\n",
    "# Print number of unique entries by column, in ascending order\n",
    "sorted(d.items(), key=lambda x: x[1])"
   ]
  },
  {
   "cell_type": "markdown",
   "id": "b0b6ea54",
   "metadata": {},
   "source": [
    "### City has 123 unique value so has high cardinality. Since we already have city development index we can remove column 'city' from the dataset.\n",
    "\n",
    "### Experience has 22 unique values and has high cardinality. Let's look at that later"
   ]
  },
  {
   "cell_type": "code",
   "execution_count": 190,
   "id": "03d885fc",
   "metadata": {},
   "outputs": [],
   "source": [
    "train_X.drop('city',axis = 1, inplace= True)\n",
    "test_X.drop('city',axis = 1, inplace= True)"
   ]
  },
  {
   "cell_type": "markdown",
   "id": "e1bc1b7d",
   "metadata": {},
   "source": [
    "### Let's see what going on with 'Experience' column "
   ]
  },
  {
   "cell_type": "code",
   "execution_count": 191,
   "id": "b5b17081",
   "metadata": {},
   "outputs": [
    {
     "data": {
      "text/plain": [
       ">20    2608\n",
       "5      1136\n",
       "4      1108\n",
       "3      1099\n",
       "6       989\n",
       "2       908\n",
       "7       856\n",
       "10      780\n",
       "9       776\n",
       "8       633\n",
       "15      554\n",
       "11      540\n",
       "14      453\n",
       "1       440\n",
       "12      415\n",
       "16      415\n",
       "<1      408\n",
       "13      323\n",
       "17      263\n",
       "19      241\n",
       "18      217\n",
       "20      116\n",
       "Name: experience, dtype: int64"
      ]
     },
     "execution_count": 191,
     "metadata": {},
     "output_type": "execute_result"
    }
   ],
   "source": [
    "train_X['experience'].value_counts()"
   ]
  },
  {
   "cell_type": "markdown",
   "id": "8242011f",
   "metadata": {},
   "source": [
    "### Function to create reduced number of categories for experience column"
   ]
  },
  {
   "cell_type": "code",
   "execution_count": 192,
   "id": "c7d29053",
   "metadata": {},
   "outputs": [],
   "source": [
    "def ExperienceBuckets(X):\n",
    "    X.loc[X['experience'] == '>20', 'experience'] = '22'\n",
    "    X.loc[X['experience'] == '<1', 'experience'] = '0.5'\n",
    "    X['experience'] = pd.to_numeric(X['experience'])\n",
    "    \n",
    "    conditions = [\n",
    "    (X['experience'] <1),\n",
    "    (X['experience'] <= 5),\n",
    "    (X['experience'] > 5) & (X['experience'] <= 10),\n",
    "    (X['experience'] > 10) & (X['experience'] <= 15),\n",
    "    (X['experience'] > 15) & (X['experience'] <= 20),\n",
    "    (X['experience'] >20)]\n",
    "    \n",
    "    # create a list of the values we want to assign for each condition\n",
    "    #values = ['<1', '1-5', '5-10', '10-15', '15-20', '>20']\n",
    "    values = [1, 2, 3, 4, 5, 6]\n",
    "    \n",
    "    # create a new column and use np.select to assign values to it using our lists as arguments\n",
    "    X['experience_ord'] = np.select(conditions, values)\n",
    "    return X\n"
   ]
  },
  {
   "cell_type": "code",
   "execution_count": 193,
   "id": "6079b84a",
   "metadata": {},
   "outputs": [
    {
     "name": "stdout",
     "output_type": "stream",
     "text": [
      "       city_development_index gender      relevent_experience  \\\n",
      "3215                    0.624   Male   No relevent experience   \n",
      "10438                   0.920   Male  Has relevent experience   \n",
      "14889                   0.920   Male   No relevent experience   \n",
      "3860                    0.920   Male   No relevent experience   \n",
      "17958                   0.920   Male  Has relevent experience   \n",
      "\n",
      "      enrolled_university education_level major_discipline  experience  \\\n",
      "3215        no_enrollment        Graduate             STEM         5.0   \n",
      "10438       no_enrollment         Masters             STEM        20.0   \n",
      "14889       no_enrollment         Masters  Business Degree        11.0   \n",
      "3860     Full time course        Graduate             STEM         2.0   \n",
      "17958    Part time course        Graduate             STEM         4.0   \n",
      "\n",
      "      company_size company_type last_new_job  training_hrs_log  experience_ord  \n",
      "3215        10000+      Pvt Ltd            1          2.890372               2  \n",
      "10438       10000+      Pvt Ltd           >4          3.135494               5  \n",
      "14889       10000+      Pvt Ltd           >4          2.564949               4  \n",
      "3860         50-99      Pvt Ltd            1          3.891820               2  \n",
      "17958    1000-4999      Pvt Ltd            1          4.204693               2  \n",
      "       city_development_index  gender      relevent_experience  \\\n",
      "5525                    0.920    Male  Has relevent experience   \n",
      "4688                    0.920  Female  Has relevent experience   \n",
      "11796                   0.624    Male  Has relevent experience   \n",
      "10090                   0.926    Male  Has relevent experience   \n",
      "10618                   0.910  Female  Has relevent experience   \n",
      "\n",
      "      enrolled_university education_level major_discipline  experience  \\\n",
      "5525        no_enrollment         Masters             STEM        22.0   \n",
      "4688     Full time course        Graduate             STEM         7.0   \n",
      "11796       no_enrollment        Graduate             STEM         4.0   \n",
      "10090       no_enrollment        Graduate             STEM        22.0   \n",
      "10618       no_enrollment         Masters             STEM         8.0   \n",
      "\n",
      "      company_size    company_type last_new_job  training_hrs_log  \\\n",
      "5525         50-99  Funded Startup           >4          4.584967   \n",
      "4688         50-99             NGO            4          5.062595   \n",
      "11796        50-99         Pvt Ltd            1          2.708050   \n",
      "10090        10/49         Pvt Ltd           >4          3.091042   \n",
      "10618    1000-4999         Pvt Ltd           >4          5.594711   \n",
      "\n",
      "       experience_ord  \n",
      "5525                6  \n",
      "4688                3  \n",
      "11796               2  \n",
      "10090               6  \n",
      "10618               3  \n"
     ]
    }
   ],
   "source": [
    "train_X = ExperienceBuckets(train_X)\n",
    "test_X = ExperienceBuckets(test_X)\n",
    "print(train_X.head())\n",
    "print(test_X.head())"
   ]
  },
  {
   "cell_type": "code",
   "execution_count": 194,
   "id": "f7e2ed46",
   "metadata": {},
   "outputs": [],
   "source": [
    "train_X.drop('experience', axis = 1, inplace = True)\n",
    "test_X.drop('experience', axis = 1, inplace = True)"
   ]
  },
  {
   "cell_type": "markdown",
   "id": "278fce48",
   "metadata": {},
   "source": [
    "### We can convert education level category to numerical"
   ]
  },
  {
   "cell_type": "code",
   "execution_count": 195,
   "id": "3d4fe786",
   "metadata": {},
   "outputs": [
    {
     "data": {
      "text/plain": [
       "Graduate          9267\n",
       "Masters           3507\n",
       "High School       1614\n",
       "Phd                321\n",
       "Primary School     253\n",
       "Name: education_level, dtype: int64"
      ]
     },
     "execution_count": 195,
     "metadata": {},
     "output_type": "execute_result"
    }
   ],
   "source": [
    "train_X['education_level'].value_counts()"
   ]
  },
  {
   "cell_type": "code",
   "execution_count": 196,
   "id": "14ec38e6",
   "metadata": {},
   "outputs": [],
   "source": [
    "education_mapping = {\"Primary School\": 1, \"High School\": 2, \"Graduate\":3, \"Masters\": 4, \"Phd\":5}"
   ]
  },
  {
   "cell_type": "code",
   "execution_count": 204,
   "id": "04567cb8",
   "metadata": {},
   "outputs": [
    {
     "data": {
      "text/html": [
       "<div>\n",
       "<style scoped>\n",
       "    .dataframe tbody tr th:only-of-type {\n",
       "        vertical-align: middle;\n",
       "    }\n",
       "\n",
       "    .dataframe tbody tr th {\n",
       "        vertical-align: top;\n",
       "    }\n",
       "\n",
       "    .dataframe thead th {\n",
       "        text-align: right;\n",
       "    }\n",
       "</style>\n",
       "<table border=\"1\" class=\"dataframe\">\n",
       "  <thead>\n",
       "    <tr style=\"text-align: right;\">\n",
       "      <th></th>\n",
       "      <th>city_development_index</th>\n",
       "      <th>gender</th>\n",
       "      <th>relevent_experience</th>\n",
       "      <th>enrolled_university</th>\n",
       "      <th>education_level</th>\n",
       "      <th>major_discipline</th>\n",
       "      <th>company_size</th>\n",
       "      <th>company_type</th>\n",
       "      <th>last_new_job</th>\n",
       "      <th>training_hrs_log</th>\n",
       "      <th>experience_ord</th>\n",
       "    </tr>\n",
       "  </thead>\n",
       "  <tbody>\n",
       "    <tr>\n",
       "      <th>3215</th>\n",
       "      <td>0.624</td>\n",
       "      <td>Male</td>\n",
       "      <td>No relevent experience</td>\n",
       "      <td>no_enrollment</td>\n",
       "      <td>NaN</td>\n",
       "      <td>STEM</td>\n",
       "      <td>10000+</td>\n",
       "      <td>Pvt Ltd</td>\n",
       "      <td>1</td>\n",
       "      <td>2.890372</td>\n",
       "      <td>2</td>\n",
       "    </tr>\n",
       "    <tr>\n",
       "      <th>10438</th>\n",
       "      <td>0.920</td>\n",
       "      <td>Male</td>\n",
       "      <td>Has relevent experience</td>\n",
       "      <td>no_enrollment</td>\n",
       "      <td>NaN</td>\n",
       "      <td>STEM</td>\n",
       "      <td>10000+</td>\n",
       "      <td>Pvt Ltd</td>\n",
       "      <td>&gt;4</td>\n",
       "      <td>3.135494</td>\n",
       "      <td>5</td>\n",
       "    </tr>\n",
       "    <tr>\n",
       "      <th>14889</th>\n",
       "      <td>0.920</td>\n",
       "      <td>Male</td>\n",
       "      <td>No relevent experience</td>\n",
       "      <td>no_enrollment</td>\n",
       "      <td>NaN</td>\n",
       "      <td>Business Degree</td>\n",
       "      <td>10000+</td>\n",
       "      <td>Pvt Ltd</td>\n",
       "      <td>&gt;4</td>\n",
       "      <td>2.564949</td>\n",
       "      <td>4</td>\n",
       "    </tr>\n",
       "    <tr>\n",
       "      <th>3860</th>\n",
       "      <td>0.920</td>\n",
       "      <td>Male</td>\n",
       "      <td>No relevent experience</td>\n",
       "      <td>Full time course</td>\n",
       "      <td>NaN</td>\n",
       "      <td>STEM</td>\n",
       "      <td>50-99</td>\n",
       "      <td>Pvt Ltd</td>\n",
       "      <td>1</td>\n",
       "      <td>3.891820</td>\n",
       "      <td>2</td>\n",
       "    </tr>\n",
       "    <tr>\n",
       "      <th>17958</th>\n",
       "      <td>0.920</td>\n",
       "      <td>Male</td>\n",
       "      <td>Has relevent experience</td>\n",
       "      <td>Part time course</td>\n",
       "      <td>NaN</td>\n",
       "      <td>STEM</td>\n",
       "      <td>1000-4999</td>\n",
       "      <td>Pvt Ltd</td>\n",
       "      <td>1</td>\n",
       "      <td>4.204693</td>\n",
       "      <td>2</td>\n",
       "    </tr>\n",
       "  </tbody>\n",
       "</table>\n",
       "</div>"
      ],
      "text/plain": [
       "       city_development_index gender      relevent_experience  \\\n",
       "3215                    0.624   Male   No relevent experience   \n",
       "10438                   0.920   Male  Has relevent experience   \n",
       "14889                   0.920   Male   No relevent experience   \n",
       "3860                    0.920   Male   No relevent experience   \n",
       "17958                   0.920   Male  Has relevent experience   \n",
       "\n",
       "      enrolled_university  education_level major_discipline company_size  \\\n",
       "3215        no_enrollment              NaN             STEM       10000+   \n",
       "10438       no_enrollment              NaN             STEM       10000+   \n",
       "14889       no_enrollment              NaN  Business Degree       10000+   \n",
       "3860     Full time course              NaN             STEM        50-99   \n",
       "17958    Part time course              NaN             STEM    1000-4999   \n",
       "\n",
       "      company_type last_new_job  training_hrs_log  experience_ord  \n",
       "3215       Pvt Ltd            1          2.890372               2  \n",
       "10438      Pvt Ltd           >4          3.135494               5  \n",
       "14889      Pvt Ltd           >4          2.564949               4  \n",
       "3860       Pvt Ltd            1          3.891820               2  \n",
       "17958      Pvt Ltd            1          4.204693               2  "
      ]
     },
     "execution_count": 204,
     "metadata": {},
     "output_type": "execute_result"
    }
   ],
   "source": [
    "train_X['education_level'] = train_X['education_level'].map(education_mapping)\n",
    "test_X['education_level'] = test_X['education_level'].map(education_mapping)\n",
    "train_X.head()"
   ]
  },
  {
   "cell_type": "markdown",
   "id": "87839510",
   "metadata": {},
   "source": [
    "### Get the numeric and category coloumns"
   ]
  },
  {
   "cell_type": "code",
   "execution_count": 205,
   "id": "04e2df3d",
   "metadata": {},
   "outputs": [
    {
     "name": "stdout",
     "output_type": "stream",
     "text": [
      "['city_development_index', 'education_level', 'training_hrs_log', 'experience_ord']\n",
      "['company_type', 'enrolled_university', 'gender', 'major_discipline', 'last_new_job', 'company_size', 'relevent_experience']\n"
     ]
    }
   ],
   "source": [
    "attribs = train_X.columns\n",
    "num_attribs = list(train_X._get_numeric_data().columns)\n",
    "cat_attribs = list(set(attribs) - set(num_attribs))\n",
    "print(num_attribs)\n",
    "print(cat_attribs)"
   ]
  },
  {
   "cell_type": "markdown",
   "id": "25015036",
   "metadata": {},
   "source": [
    "### Create DataFrame selector class\n"
   ]
  },
  {
   "cell_type": "code",
   "execution_count": 206,
   "id": "2fb778a3",
   "metadata": {},
   "outputs": [],
   "source": [
    "class DataFrameSelector(BaseEstimator, TransformerMixin):\n",
    "    def __init__(self, attribute_names):\n",
    "        self.attribute_names = attribute_names\n",
    "    def fit(self, X, y=None):\n",
    "        return self\n",
    "    def transform(self, X):\n",
    "        return X[self.attribute_names].values"
   ]
  },
  {
   "cell_type": "markdown",
   "id": "114cf81c",
   "metadata": {},
   "source": [
    "### Create pipelines for numerical and category columns"
   ]
  },
  {
   "cell_type": "code",
   "execution_count": 207,
   "id": "6253c17e",
   "metadata": {},
   "outputs": [],
   "source": [
    "num_pipeline = Pipeline([('Selector', DataFrameSelector(num_attribs)), ('imputer',SimpleImputer(strategy='median')),\\\n",
    "                        ('std_scaler',StandardScaler())])\n",
    "\n",
    "cat_pipeline = Pipeline([('Selector', DataFrameSelector(cat_attribs)), ('category_imputer',SimpleImputer(strategy='constant',fill_value=\"unknown\")),\\\n",
    "                                                 ('one_hot_encoder',OneHotEncoder(drop=\"if_binary\"))])"
   ]
  },
  {
   "cell_type": "markdown",
   "id": "289fcfe5",
   "metadata": {},
   "source": [
    "### Complete pipeline"
   ]
  },
  {
   "cell_type": "code",
   "execution_count": 208,
   "id": "68b01fed",
   "metadata": {},
   "outputs": [],
   "source": [
    "full_pipeline = FeatureUnion(transformer_list=[(\"num_pipeline\", num_pipeline),(\"cat_pipeline\", cat_pipeline)])"
   ]
  },
  {
   "cell_type": "markdown",
   "id": "edc84022",
   "metadata": {},
   "source": [
    "### prepare the training set by fitting and transforming using the complete pipeline"
   ]
  },
  {
   "cell_type": "code",
   "execution_count": 209,
   "id": "fd70c2d3",
   "metadata": {},
   "outputs": [
    {
     "data": {
      "text/plain": [
       "<15326x42 sparse matrix of type '<class 'numpy.float64'>'\n",
       "\twith 142223 stored elements in Compressed Sparse Row format>"
      ]
     },
     "execution_count": 209,
     "metadata": {},
     "output_type": "execute_result"
    }
   ],
   "source": [
    "train_prepared = full_pipeline.fit_transform(train_X)\n",
    "train_prepared"
   ]
  },
  {
   "cell_type": "code",
   "execution_count": 222,
   "id": "5e14d21a",
   "metadata": {},
   "outputs": [
    {
     "data": {
      "text/plain": [
       "<3832x42 sparse matrix of type '<class 'numpy.float64'>'\n",
       "\twith 35565 stored elements in Compressed Sparse Row format>"
      ]
     },
     "execution_count": 222,
     "metadata": {},
     "output_type": "execute_result"
    }
   ],
   "source": [
    "test_prepared = full_pipeline.transform(test_X)\n",
    "test_prepared"
   ]
  },
  {
   "cell_type": "markdown",
   "id": "5de9d061",
   "metadata": {},
   "source": [
    "## Training a logistic regression model"
   ]
  },
  {
   "cell_type": "code",
   "execution_count": 223,
   "id": "1dee892e",
   "metadata": {},
   "outputs": [],
   "source": [
    "log_reg = LogisticRegressionCV(cv=10,max_iter=1000, class_weight={0:1,1:3}).fit(train_prepared, train_y)"
   ]
  },
  {
   "cell_type": "code",
   "execution_count": 224,
   "id": "c6ffbe68",
   "metadata": {},
   "outputs": [],
   "source": [
    "def model_performance(model):\n",
    "    predictions = model.predict(train_prepared)\n",
    "    print('model: ',model)\n",
    "    print('accuracy on training data: ', model.score(train_prepared, train_y))\n",
    "    print('AUC on training data: ', roc_auc_score(train_y,predictions))\n",
    "    \n",
    "    predictions_test = model.predict(test_prepared)\n",
    "    \n",
    "    print('accuracy on test data: ', model.score(test_prepared, test_y))\n",
    "    print('AUC on test data: ',roc_auc_score(test_y,predictions_test))\n",
    "    \n",
    "    print(confusion_matrix(predictions_test, test_y))"
   ]
  },
  {
   "cell_type": "code",
   "execution_count": 225,
   "id": "a92d7610",
   "metadata": {},
   "outputs": [
    {
     "name": "stdout",
     "output_type": "stream",
     "text": [
      "model:  LogisticRegressionCV(class_weight={0: 1, 1: 3}, cv=10, max_iter=1000)\n",
      "accuracy on training data:  0.7308495367349602\n",
      "AUC on training data:  0.740509375213073\n",
      "accuracy on test data:  0.7223382045929019\n",
      "AUC on test data:  0.7308111339714018\n",
      "[[2057  240]\n",
      " [ 824  711]]\n"
     ]
    }
   ],
   "source": [
    "model_performance(log_reg)"
   ]
  },
  {
   "cell_type": "markdown",
   "id": "61f662a7",
   "metadata": {},
   "source": [
    "### Model is just about okay. Lets check the learning curves. This is standard code provided on sklearn website"
   ]
  },
  {
   "cell_type": "code",
   "execution_count": 242,
   "id": "ed8c379b",
   "metadata": {},
   "outputs": [],
   "source": [
    "def plot_learning_curve(estimator, title, X, y, ylim=None, cv=None,\n",
    "                        n_jobs=None, train_sizes=np.linspace(.1, 1.0, 5)):\n",
    "    \"\"\"\n",
    "    Generate a simple plot of the test and training learning curve.\n",
    "\n",
    "    Parameters\n",
    "    ----------\n",
    "    estimator : object type that implements the \"fit\" and \"predict\" methods\n",
    "        An object of that type which is cloned for each validation.\n",
    "\n",
    "    title : string\n",
    "        Title for the chart.\n",
    "\n",
    "    X : array-like, shape (n_samples, n_features)\n",
    "        Training vector, where n_samples is the number of samples and\n",
    "        n_features is the number of features.\n",
    "\n",
    "    y : array-like, shape (n_samples) or (n_samples, n_features), optional\n",
    "        Target relative to X for classification or regression;\n",
    "        None for unsupervised learning.\n",
    "\n",
    "    ylim : tuple, shape (ymin, ymax), optional\n",
    "        Defines minimum and maximum yvalues plotted.\n",
    "\n",
    "    cv : int, cross-validation generator or an iterable, optional\n",
    "        Determines the cross-validation splitting strategy.\n",
    "        Possible inputs for cv are:\n",
    "          - None, to use the default 3-fold cross-validation,\n",
    "          - integer, to specify the number of folds.\n",
    "          - An object to be used as a cross-validation generator.\n",
    "          - An iterable yielding train/test splits.\n",
    "\n",
    "        For integer/None inputs, if ``y`` is binary or multiclass,\n",
    "        :class:`StratifiedKFold` used. If the estimator is not a classifier\n",
    "        or if ``y`` is neither binary nor multiclass, :class:`KFold` is used.\n",
    "\n",
    "        Refer :ref:`User Guide <cross_validation>` for the various\n",
    "        cross-validators that can be used here.\n",
    "\n",
    "    n_jobs : int or None, optional (default=None)\n",
    "        Number of jobs to run in parallel.\n",
    "        ``None`` means 1 unless in a :obj:`joblib.parallel_backend` context.\n",
    "        ``-1`` means using all processors. See :term:`Glossary <n_jobs>`\n",
    "        for more details.\n",
    "\n",
    "    train_sizes : array-like, shape (n_ticks,), dtype float or int\n",
    "        Relative or absolute numbers of training examples that will be used to\n",
    "        generate the learning curve. If the dtype is float, it is regarded as a\n",
    "        fraction of the maximum size of the training set (that is determined\n",
    "        by the selected validation method), i.e. it has to be within (0, 1].\n",
    "        Otherwise it is interpreted as absolute sizes of the training sets.\n",
    "        Note that for classification the number of samples usually have to\n",
    "        be big enough to contain at least one sample from each class.\n",
    "        (default: np.linspace(0.1, 1.0, 5))\n",
    "    \"\"\"\n",
    "    plt.figure()\n",
    "    plt.title(title)\n",
    "    if ylim is not None:\n",
    "        plt.ylim(*ylim)\n",
    "    plt.xlabel(\"Training examples\")\n",
    "    plt.ylabel(\"Score\")\n",
    "    train_sizes, train_scores, test_scores = learning_curve(\n",
    "        estimator, X, y, cv=cv, n_jobs=n_jobs, train_sizes=train_sizes)\n",
    "    train_scores_mean = np.mean(train_scores, axis=1)\n",
    "    train_scores_std = np.std(train_scores, axis=1)\n",
    "    test_scores_mean = np.mean(test_scores, axis=1)\n",
    "    test_scores_std = np.std(test_scores, axis=1)\n",
    "    plt.grid()\n",
    "\n",
    "    plt.fill_between(train_sizes, train_scores_mean - train_scores_std,\n",
    "                     train_scores_mean + train_scores_std, alpha=0.1,\n",
    "                     color=\"r\")\n",
    "    plt.fill_between(train_sizes, test_scores_mean - test_scores_std,\n",
    "                     test_scores_mean + test_scores_std, alpha=0.1, color=\"g\")\n",
    "    plt.plot(train_sizes, train_scores_mean, 'o-', color=\"r\",\n",
    "             label=\"Training score\")\n",
    "    plt.plot(train_sizes, test_scores_mean, 'o-', color=\"g\",\n",
    "             label=\"Cross-validation score\")\n",
    "\n",
    "    plt.legend(loc=\"best\")\n",
    "    return plt"
   ]
  },
  {
   "cell_type": "code",
   "execution_count": 244,
   "id": "bc0ab3d2",
   "metadata": {},
   "outputs": [
    {
     "data": {
      "image/png": "[encoded data removed]",
      "text/plain": [
       "<Figure size 432x288 with 1 Axes>"
      ]
     },
     "metadata": {
      "needs_background": "light"
     },
     "output_type": "display_data"
    },
    {
     "data": {
      "image/png": "[encoded data removed]",
      "text/plain": [
       "<Figure size 432x288 with 1 Axes>"
      ]
     },
     "metadata": {
      "needs_background": "light"
     },
     "output_type": "display_data"
    }
   ],
   "source": [
    "title = \"Learning Curves (LogisticReg)\"\n",
    "# Cross validation with 10 iterations to get smoother mean test and train\n",
    "# score curves, each time with 20% data randomly selected as a validation set.\n",
    "cv = ShuffleSplit(n_splits=10, test_size=0.2, random_state=0)\n",
    "\n",
    "estimator = LogisticRegression(class_weight={0:1,1:3})\n",
    "plot_learning_curve(estimator, title, train_prepared, train_y, ylim=(0.65, 1.01), cv=cv, n_jobs=4)\n",
    "\n",
    "title = \"Learning Curves (SVM, RBF kernel, $\\gamma=0.001$)\"\n",
    "# SVC is more expensive so we do a lower number of CV iterations:\n",
    "cv = ShuffleSplit(n_splits=10, test_size=0.2, random_state=0)\n",
    "estimator = SVC(gamma=0.001,class_weight={0:1,1:3})\n",
    "plot_learning_curve(estimator, title, train_prepared, train_y, (0.65, 1.01), cv=cv, n_jobs=4)\n",
    "\n",
    "plt.show()"
   ]
  },
  {
   "cell_type": "markdown",
   "id": "f70033ae",
   "metadata": {},
   "source": [
    "### Both models are underfitting but Logistic regression performs slightly better. Adding more data will not help. \n",
    "\n",
    "### Let's try Random Forest with cross validation"
   ]
  },
  {
   "cell_type": "code",
   "execution_count": 141,
   "id": "afaf416e",
   "metadata": {},
   "outputs": [
    {
     "name": "stdout",
     "output_type": "stream",
     "text": [
      "0.7716952653371344\n"
     ]
    }
   ],
   "source": [
    "rf = RandomForestClassifier(n_estimators=100,max_depth=10,random_state=0, class_weight={0:1,1:3})\n",
    "print(np.mean(cross_val_score(rf, train_prepared, train_y, cv=5)))"
   ]
  },
  {
   "cell_type": "markdown",
   "id": "cd0d4228",
   "metadata": {},
   "source": [
    "### Accuracy is better but let's re-try with hyper parameter tuning"
   ]
  },
  {
   "cell_type": "code",
   "execution_count": 142,
   "id": "dc49ea56",
   "metadata": {},
   "outputs": [],
   "source": [
    "param_grid = {'n_estimators': [100,200,300],'max_depth': [15,20,30]}"
   ]
  },
  {
   "cell_type": "code",
   "execution_count": 143,
   "id": "0d748ee7",
   "metadata": {},
   "outputs": [
    {
     "data": {
      "text/plain": [
       "GridSearchCV(cv=10,\n",
       "             estimator=RandomForestClassifier(class_weight={0: 1, 1: 3},\n",
       "                                              random_state=0),\n",
       "             param_grid={'max_depth': [15, 20, 30],\n",
       "                         'n_estimators': [100, 200, 300]})"
      ]
     },
     "execution_count": 143,
     "metadata": {},
     "output_type": "execute_result"
    }
   ],
   "source": [
    "rf = RandomForestClassifier(random_state=0, class_weight={0:1,1:3})\n",
    "grid_rf = GridSearchCV(rf, param_grid, cv=10)\n",
    "grid_rf.fit(train_prepared, train_y)"
   ]
  },
  {
   "cell_type": "code",
   "execution_count": 144,
   "id": "d27fd6a9",
   "metadata": {},
   "outputs": [
    {
     "data": {
      "text/plain": [
       "{'max_depth': 20, 'n_estimators': 100}"
      ]
     },
     "execution_count": 144,
     "metadata": {},
     "output_type": "execute_result"
    }
   ],
   "source": [
    "grid_rf.best_params_"
   ]
  },
  {
   "cell_type": "code",
   "execution_count": 145,
   "id": "77ec7b3f",
   "metadata": {},
   "outputs": [
    {
     "name": "stdout",
     "output_type": "stream",
     "text": [
      "model:  RandomForestClassifier(class_weight={0: 1, 1: 3}, max_depth=20, random_state=0)\n",
      "accuracy on training data:  0.9389925616599243\n",
      "AUC on training data:  0.9354532375735812\n",
      "accuracy on test data:  0.7802713987473904\n",
      "AUC on test data:  0.712281158947395\n",
      "[[2441  402]\n",
      " [ 440  549]]\n"
     ]
    }
   ],
   "source": [
    "best_grid_rf = grid_rf.best_estimator_\n",
    "model_performance(best_grid_rf)"
   ]
  },
  {
   "cell_type": "markdown",
   "id": "bc70d556",
   "metadata": {},
   "source": [
    "### Random Forest performs well on training data but doesn't generalize well on test data. Accuracy is better than Logistic Regression but AUC is lower.\n",
    "\n",
    "### Let's try Extreme gradiant boosing as our final model"
   ]
  },
  {
   "cell_type": "code",
   "execution_count": 146,
   "id": "dc463715",
   "metadata": {},
   "outputs": [
    {
     "name": "stdout",
     "output_type": "stream",
     "text": [
      "[14:33:29] WARNING: ..\\src\\learner.cc:1061: Starting in XGBoost 1.3.0, the default evaluation metric used with the objective 'binary:logistic' was changed from 'error' to 'logloss'. Explicitly set eval_metric if you'd like to restore the old behavior.\n"
     ]
    }
   ],
   "source": [
    "xgb_model = XGBClassifier(max_depth=10, n_estimators=100, learning_rate=0.002, \\\n",
    "                          use_label_encoder=False, scale_pos_weight=3).fit(train_prepared, train_y)"
   ]
  },
  {
   "cell_type": "code",
   "execution_count": 147,
   "id": "45f08d99",
   "metadata": {},
   "outputs": [
    {
     "name": "stdout",
     "output_type": "stream",
     "text": [
      "model:  XGBClassifier(base_score=0.5, booster='gbtree', colsample_bylevel=1,\n",
      "              colsample_bynode=1, colsample_bytree=1, gamma=0, gpu_id=-1,\n",
      "              importance_type='gain', interaction_constraints='',\n",
      "              learning_rate=0.002, max_delta_step=0, max_depth=10,\n",
      "              min_child_weight=1, missing=nan, monotone_constraints='()',\n",
      "              n_estimators=100, n_jobs=2, num_parallel_tree=1, random_state=0,\n",
      "              reg_alpha=0, reg_lambda=1, scale_pos_weight=3, subsample=1,\n",
      "              tree_method='exact', use_label_encoder=False,\n",
      "              validate_parameters=1, verbosity=None)\n",
      "accuracy on training data:  0.8131932663447736\n",
      "AUC on training data:  0.8077622673242573\n",
      "accuracy on test data:  0.7721816283924844\n",
      "AUC on test data:  0.749166463186963\n",
      "[[2290  282]\n",
      " [ 591  669]]\n"
     ]
    }
   ],
   "source": [
    "model_performance(xgb_model)"
   ]
  },
  {
   "cell_type": "markdown",
   "id": "584457e5",
   "metadata": {},
   "source": [
    "### This is an better model. We can simplify the model a little so that it generalizes better on the test data"
   ]
  },
  {
   "cell_type": "code",
   "execution_count": 151,
   "id": "3abe1659",
   "metadata": {},
   "outputs": [
    {
     "name": "stdout",
     "output_type": "stream",
     "text": [
      "[14:35:27] WARNING: ..\\src\\learner.cc:1061: Starting in XGBoost 1.3.0, the default evaluation metric used with the objective 'binary:logistic' was changed from 'error' to 'logloss'. Explicitly set eval_metric if you'd like to restore the old behavior.\n"
     ]
    }
   ],
   "source": [
    "xgb_model_simple = XGBClassifier(max_depth=8, n_estimators=50, learning_rate=0.05, use_label_encoder=False,scale_pos_weight=3).fit(train_prepared, train_y)"
   ]
  },
  {
   "cell_type": "code",
   "execution_count": 152,
   "id": "ade36986",
   "metadata": {},
   "outputs": [
    {
     "name": "stdout",
     "output_type": "stream",
     "text": [
      "model:  XGBClassifier(base_score=0.5, booster='gbtree', colsample_bylevel=1,\n",
      "              colsample_bynode=1, colsample_bytree=1, gamma=0, gpu_id=-1,\n",
      "              importance_type='gain', interaction_constraints='',\n",
      "              learning_rate=0.05, max_delta_step=0, max_depth=8,\n",
      "              min_child_weight=1, missing=nan, monotone_constraints='()',\n",
      "              n_estimators=50, n_jobs=2, num_parallel_tree=1, random_state=0,\n",
      "              reg_alpha=0, reg_lambda=1, scale_pos_weight=3, subsample=1,\n",
      "              tree_method='exact', use_label_encoder=False,\n",
      "              validate_parameters=1, verbosity=None)\n",
      "accuracy on training data:  0.8148897298708078\n",
      "AUC on training data:  0.8078462237778132\n",
      "accuracy on test data:  0.7834029227557411\n",
      "AUC on test data:  0.7615601108243537\n",
      "[[2319  268]\n",
      " [ 562  683]]\n"
     ]
    }
   ],
   "source": [
    "model_performance(xgb_model_simple)"
   ]
  },
  {
   "cell_type": "markdown",
   "id": "75ab4d0d",
   "metadata": {},
   "source": [
    "### This is a much better model with higher accuracy rate as well as better AUC than the previous. This is a good model considering limited features.\n",
    "\n",
    "### Let's check feature importance"
   ]
  },
  {
   "cell_type": "code",
   "execution_count": 227,
   "id": "91ec8e77",
   "metadata": {},
   "outputs": [
    {
     "data": {
      "image/png": "[encoded data removed]",
      "text/plain": [
       "<Figure size 720x720 with 1 Axes>"
      ]
     },
     "metadata": {
      "needs_background": "light"
     },
     "output_type": "display_data"
    }
   ],
   "source": [
    "ax = plot_importance(xgb_model_simple)\n",
    "fig = ax.figure\n",
    "fig.set_size_inches(10, 10)"
   ]
  },
  {
   "cell_type": "markdown",
   "id": "f1d67090",
   "metadata": {},
   "source": [
    "### Training hours and city development index are the best predictors followed by total experience"
   ]
  },
  {
   "cell_type": "markdown",
   "id": "e703790e",
   "metadata": {},
   "source": [
    "### What we have is a decent but not a great model. \n",
    "\n",
    "### We can try to improve the performance by using voting classifiers or stacking that would combine various individual classifiers to may give better results. \n",
    "\n",
    "### Let's try stacking"
   ]
  },
  {
   "cell_type": "code",
   "execution_count": 244,
   "id": "c70d5f81",
   "metadata": {},
   "outputs": [],
   "source": [
    "log_reg = LogisticRegression(max_iter=1000, class_weight={0:1,1:3})\n",
    "rf = RandomForestClassifier(n_estimators=100,max_depth=20,random_state=0, class_weight={0:1,1:3})\n",
    "xgb = XGBClassifier(max_depth=8, n_estimators=50, learning_rate=0.05, use_label_encoder=False,scale_pos_weight=3)\n",
    "svc = SVC(gamma=0.001,class_weight={0:1,1:3})\n",
    "classifiers = [('svc', svc), \n",
    "               ('rf', rf),                             \n",
    "               ('log_reg', log_reg)]"
   ]
  },
  {
   "cell_type": "code",
   "execution_count": 245,
   "id": "7de79bf3",
   "metadata": {},
   "outputs": [],
   "source": [
    "clf = StackingClassifier(estimators=classifiers, \n",
    "                         final_estimator=xgb,\n",
    "                         stack_method='auto',\n",
    "                         n_jobs=-1,\n",
    "                         passthrough=False)"
   ]
  },
  {
   "cell_type": "code",
   "execution_count": 246,
   "id": "88ca96c4",
   "metadata": {},
   "outputs": [
    {
     "name": "stdout",
     "output_type": "stream",
     "text": [
      "[13:56:22] WARNING: ..\\src\\learner.cc:1061: Starting in XGBoost 1.3.0, the default evaluation metric used with the objective 'binary:logistic' was changed from 'error' to 'logloss'. Explicitly set eval_metric if you'd like to restore the old behavior.\n"
     ]
    },
    {
     "data": {
      "text/plain": [
       "StackingClassifier(estimators=[('svc',\n",
       "                                SVC(class_weight={0: 1, 1: 3}, gamma=0.001)),\n",
       "                               ('rf',\n",
       "                                RandomForestClassifier(class_weight={0: 1,\n",
       "                                                                     1: 3},\n",
       "                                                       max_depth=20,\n",
       "                                                       random_state=0)),\n",
       "                               ('log_reg',\n",
       "                                LogisticRegression(class_weight={0: 1, 1: 3},\n",
       "                                                   max_iter=1000))],\n",
       "                   final_estimator=XGBClassifier(base_score=None, booster=None,\n",
       "                                                 colsample_bylevel=None,\n",
       "                                                 colsample_bynode=None,\n",
       "                                                 colsample_bytre...\n",
       "                                                 interaction_constraints=None,\n",
       "                                                 learning_rate=0.05,\n",
       "                                                 max_delta_step=None,\n",
       "                                                 max_depth=8,\n",
       "                                                 min_child_weight=None,\n",
       "                                                 missing=nan,\n",
       "                                                 monotone_constraints=None,\n",
       "                                                 n_estimators=50, n_jobs=None,\n",
       "                                                 num_parallel_tree=None,\n",
       "                                                 random_state=None,\n",
       "                                                 reg_alpha=None,\n",
       "                                                 reg_lambda=None,\n",
       "                                                 scale_pos_weight=3,\n",
       "                                                 subsample=None,\n",
       "                                                 tree_method=None,\n",
       "                                                 use_label_encoder=False,\n",
       "                                                 validate_parameters=None,\n",
       "                                                 verbosity=None),\n",
       "                   n_jobs=-1)"
      ]
     },
     "execution_count": 246,
     "metadata": {},
     "output_type": "execute_result"
    }
   ],
   "source": [
    "clf.fit(train_prepared,train_y)"
   ]
  },
  {
   "cell_type": "code",
   "execution_count": 247,
   "id": "6b10a49b",
   "metadata": {},
   "outputs": [
    {
     "name": "stdout",
     "output_type": "stream",
     "text": [
      "model:  StackingClassifier(estimators=[('svc',\n",
      "                                SVC(class_weight={0: 1, 1: 3}, gamma=0.001)),\n",
      "                               ('rf',\n",
      "                                RandomForestClassifier(class_weight={0: 1,\n",
      "                                                                     1: 3},\n",
      "                                                       max_depth=20,\n",
      "                                                       random_state=0)),\n",
      "                               ('log_reg',\n",
      "                                LogisticRegression(class_weight={0: 1, 1: 3},\n",
      "                                                   max_iter=1000))],\n",
      "                   final_estimator=XGBClassifier(base_score=None, booster=None,\n",
      "                                                 colsample_bylevel=None,\n",
      "                                                 colsample_bynode=None,\n",
      "                                                 colsample_bytre...\n",
      "                                                 interaction_constraints=None,\n",
      "                                                 learning_rate=0.05,\n",
      "                                                 max_delta_step=None,\n",
      "                                                 max_depth=8,\n",
      "                                                 min_child_weight=None,\n",
      "                                                 missing=nan,\n",
      "                                                 monotone_constraints=None,\n",
      "                                                 n_estimators=50, n_jobs=None,\n",
      "                                                 num_parallel_tree=None,\n",
      "                                                 random_state=None,\n",
      "                                                 reg_alpha=None,\n",
      "                                                 reg_lambda=None,\n",
      "                                                 scale_pos_weight=3,\n",
      "                                                 subsample=None,\n",
      "                                                 tree_method=None,\n",
      "                                                 use_label_encoder=False,\n",
      "                                                 validate_parameters=None,\n",
      "                                                 verbosity=None),\n",
      "                   n_jobs=-1)\n",
      "accuracy on training data:  0.8423593892731306\n",
      "AUC on training data:  0.8459464533284848\n",
      "accuracy on test data:  0.7703549060542797\n",
      "AUC on test data:  0.7514737222843306\n",
      "[[2273  272]\n",
      " [ 608  679]]\n"
     ]
    }
   ],
   "source": [
    "model_performance(clf)"
   ]
  },
  {
   "cell_type": "markdown",
   "id": "fbd4b030",
   "metadata": {},
   "source": [
    "#### Stacking did not help. We can play around with hyper parameters and with 'base estimators and final classifier' combination to see if performance improves, however, I do not expect a lot of improvement because some very important features such as employee satisfaction survey data, employee performance data, manager data, time since last promotion etc. missing, that might be better predictors."
   ]
  },
  {
   "cell_type": "code",
   "execution_count": null,
   "id": "430925e5",
   "metadata": {},
   "outputs": [],
   "source": []
  }
 ],
 "metadata": {
  "kernelspec": {
   "display_name": "Python 3",
   "language": "python",
   "name": "python3"
  },
  "language_info": {
   "codemirror_mode": {
    "name": "ipython",
    "version": 3
   },
   "file_extension": ".py",
   "mimetype": "text/x-python",
   "name": "python",
   "nbconvert_exporter": "python",
   "pygments_lexer": "ipython3",
   "version": "3.8.8"
  }
 },
 "nbformat": 4,
 "nbformat_minor": 5
}
